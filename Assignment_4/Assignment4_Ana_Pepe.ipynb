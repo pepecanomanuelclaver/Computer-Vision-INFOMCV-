{
  "cells": [
    {
      "cell_type": "code",
      "execution_count": 1,
      "metadata": {
        "id": "pl6BpGIs8dxJ"
      },
      "outputs": [],
      "source": [
        "import tensorflow as tf\n",
        "import numpy as np\n",
        "import matplotlib.pyplot as plt\n",
        "from sklearn.model_selection import train_test_split\n",
        "from tensorflow.keras.callbacks import ReduceLROnPlateau\n",
        "from sklearn.utils import validation\n",
        "import matplotlib.pyplot as plt\n",
        "import keras\n",
        "from keras.optimizers import SGD\n",
        "from keras.callbacks import ModelCheckpoint, LearningRateScheduler\n",
        "from sklearn.model_selection import KFold\n",
        "from keras.utils.vis_utils import plot_model\n",
        "from sklearn.metrics import classification_report\n",
        "import numpy as np\n",
        "from sklearn.metrics import confusion_matrix\n",
        "import matplotlib.pyplot as plt"
      ]
    },
    {
      "cell_type": "code",
      "execution_count": 2,
      "metadata": {
        "id": "BjOdybANHIZT"
      },
      "outputs": [],
      "source": [
        "from numpy.random import seed\n",
        "seed(1)\n",
        "\n",
        "import tensorflow as tf\n",
        "tf.random.set_seed(2)"
      ]
    },
    {
      "cell_type": "code",
      "execution_count": 3,
      "metadata": {
        "colab": {
          "base_uri": "https://localhost:8080/"
        },
        "id": "eZNLa3l3bIHZ",
        "outputId": "f6eb1a7b-8fd3-484a-d8ee-d0deb18d4b20"
      },
      "outputs": [
        {
          "output_type": "stream",
          "name": "stdout",
          "text": [
            "Mounted at /content/drive\n"
          ]
        }
      ],
      "source": [
        "from google.colab import drive\n",
        "drive.mount('/content/drive', force_remount=True)"
      ]
    },
    {
      "cell_type": "markdown",
      "metadata": {
        "id": "cxQYx-zBddxL"
      },
      "source": [
        "## Functions"
      ]
    },
    {
      "cell_type": "code",
      "execution_count": 4,
      "metadata": {
        "id": "YQrXKYHd_cmo"
      },
      "outputs": [],
      "source": [
        "def train_model(model,train_images, train_labels, validation_images,validation_labels, model_name):\n",
        "  \"\"\"\n",
        "  train_model uses a validation and training set for training the correspondant model and\n",
        "  saves the best model weights into a file\n",
        "  \"\"\"\n",
        "\n",
        "  # Show how the network is generated\n",
        "  tf.keras.utils.plot_model(model, show_shapes=True, show_layer_activations=True)\n",
        "\n",
        "  # compile the model \n",
        "  model.compile(optimizer='adam',\n",
        "                loss=tf.keras.losses.SparseCategoricalCrossentropy(from_logits=True),\n",
        "                metrics=['accuracy'])\n",
        "  \n",
        "  model_name = '/content/drive/My Drive/Computer_Vision/Assignment_4/' + model_name\n",
        "  \n",
        "  # define a checkpoint to save the best model weights based on validation accuracy\n",
        "  checkpoint = ModelCheckpoint(model_name, monitor='val_accuracy', save_best_only=True, mode='max', verbose=1)\n",
        "\n",
        "  history = model.fit(train_images, train_labels, epochs=15, validation_data=(validation_images,validation_labels), callbacks=[checkpoint])\n",
        "\n",
        "\n",
        "  # Plot the training and validation loss values\n",
        "  plt.plot(history.history['loss'], label='Training Loss')\n",
        "  plt.plot(history.history['val_loss'], label='Validation Loss')\n",
        "  plt.legend()\n",
        "  plt.title('Training and Validation Loss')\n",
        "  plt.xlabel('Epoch')\n",
        "  plt.ylabel('Loss')\n",
        "  plt.show()"
      ]
    },
    {
      "cell_type": "code",
      "execution_count": 5,
      "metadata": {
        "id": "pj8_a66GY0Nd"
      },
      "outputs": [],
      "source": [
        "def train_model_all(model, train_images, train_labels, model_name):\n",
        "  \"\"\"\n",
        "  train_model_all uses only a training set for training the correspondant model and\n",
        "  saves the best model weights into a file\n",
        "  \"\"\"\n",
        "  # Show how the network is generated\n",
        "  tf.keras.utils.plot_model(model, show_shapes=True, show_layer_activations=True)\n",
        "\n",
        "  # compile the model \n",
        "  model.compile(optimizer='adam',\n",
        "                loss=tf.keras.losses.SparseCategoricalCrossentropy(from_logits=True),\n",
        "                metrics=['accuracy'])\n",
        "\n",
        "  model_name = '/content/drive/My Drive/Computer_Vision/Assignment_4/' + model_name\n",
        "  \n",
        "  # define a checkpoint to save the best model weights based on validation accuracy\n",
        "  checkpoint = ModelCheckpoint(model_name, monitor='loss', save_best_only=True, mode='min', verbose=1)\n",
        "\n",
        "  history = model.fit(train_images, train_labels, epochs=15, callbacks=[checkpoint])\n",
        "\n"
      ]
    },
    {
      "cell_type": "code",
      "execution_count": 6,
      "metadata": {
        "id": "UscDZ2lwOaIy"
      },
      "outputs": [],
      "source": [
        "def train_model_LR(model,train_images, train_labels, validation_images,validation_labels, model_name):\n",
        "  \"\"\"\n",
        "  train_model_LR uses a validation and training set for training the baseline model variation n4 which is\n",
        "  a static learning rat with a momentum instead of the adam optimizer. Also it saves the \n",
        "  best model weights into a file.\n",
        "  \"\"\"\n",
        "  # Show how the network is generated\n",
        "  tf.keras.utils.plot_model(model, show_shapes=True, show_layer_activations=True)\n",
        "\n",
        "  # compile the model \n",
        "  opt = SGD(lr=0.01, momentum=0.9) # stable learning rate with momentum\n",
        "  model.compile(optimizer=opt, loss=tf.keras.losses.SparseCategoricalCrossentropy(from_logits=True),\n",
        "                metrics=['accuracy'])\n",
        "\n",
        "  \n",
        "  model_name = '/content/drive/My Drive/Computer_Vision/Assignment_4/' + model_name\n",
        "  \n",
        "  # define a checkpoint to save the best model weights based on validation accuracy\n",
        "  checkpoint = ModelCheckpoint(model_name, monitor='val_accuracy', save_best_only=True, mode='max', verbose=1)\n",
        "\n",
        "  history = model.fit(train_images, train_labels, epochs=15, validation_data=(validation_images,validation_labels), callbacks=[checkpoint])\n",
        "\n",
        "  # Plot the training and validation loss values\n",
        "  plt.plot(history.history['loss'], label='Training Loss')\n",
        "  plt.plot(history.history['val_loss'], label='Validation Loss')\n",
        "  plt.legend()\n",
        "  plt.title('Training and Validation Loss')\n",
        "  plt.xlabel('Epoch')\n",
        "  plt.ylabel('Loss')\n",
        "  plt.show()"
      ]
    },
    {
      "cell_type": "markdown",
      "metadata": {
        "id": "Rw7g_7YVdkC6"
      },
      "source": [
        "## Data definition"
      ]
    },
    {
      "cell_type": "code",
      "execution_count": 7,
      "metadata": {
        "id": "KSzqb3ll9F9M",
        "colab": {
          "base_uri": "https://localhost:8080/"
        },
        "outputId": "6620061c-0596-467c-f0f4-e9a0bde099a8"
      },
      "outputs": [
        {
          "output_type": "stream",
          "name": "stdout",
          "text": [
            "Downloading data from https://storage.googleapis.com/tensorflow/tf-keras-datasets/train-labels-idx1-ubyte.gz\n",
            "29515/29515 [==============================] - 0s 0us/step\n",
            "Downloading data from https://storage.googleapis.com/tensorflow/tf-keras-datasets/train-images-idx3-ubyte.gz\n",
            "26421880/26421880 [==============================] - 0s 0us/step\n",
            "Downloading data from https://storage.googleapis.com/tensorflow/tf-keras-datasets/t10k-labels-idx1-ubyte.gz\n",
            "5148/5148 [==============================] - 0s 0us/step\n",
            "Downloading data from https://storage.googleapis.com/tensorflow/tf-keras-datasets/t10k-images-idx3-ubyte.gz\n",
            "4422102/4422102 [==============================] - 0s 0us/step\n"
          ]
        }
      ],
      "source": [
        "# get the data-set\n",
        "fashion_mnist = tf.keras.datasets.fashion_mnist\n",
        "(train_images_all, train_labels_all), (test_images, test_labels) = fashion_mnist.load_data()\n",
        "\n",
        "# split the train dataset into train and test sets\n",
        "train_images, validation_images, train_labels, validation_labels = train_test_split(train_images_all, train_labels_all, test_size=0.2, random_state=42)\n",
        "\n",
        "# normalize the images \n",
        "train_images_all = train_images_all / 255.0\n",
        "train_images = train_images / 255.0\n",
        "test_images = test_images / 255.0\n",
        "validation_images = validation_images / 255.0\n",
        "\n",
        "# Define the class names \n",
        "class_names = ['T-shirt/top', 'Trouser', 'Pullover', 'Dress', 'Coat',\n",
        "               'Sandal', 'Shirt', 'Sneaker', 'Bag', 'Ankle boot']"
      ]
    },
    {
      "cell_type": "markdown",
      "metadata": {
        "id": "oQlcXV36dWf5"
      },
      "source": [
        "## Mandatory assignment"
      ]
    },
    {
      "cell_type": "code",
      "execution_count": 8,
      "metadata": {
        "colab": {
          "base_uri": "https://localhost:8080/",
          "height": 1000
        },
        "id": "GH9fSvMsKsXW",
        "outputId": "e88a291b-a80e-4af3-9a31-f401e3704b62"
      },
      "outputs": [
        {
          "output_type": "stream",
          "name": "stdout",
          "text": [
            "Model: \"sequential\"\n",
            "_________________________________________________________________\n",
            " Layer (type)                Output Shape              Param #   \n",
            "=================================================================\n",
            " conv2d (Conv2D)             (None, 26, 26, 32)        320       \n",
            "                                                                 \n",
            " max_pooling2d (MaxPooling2D  (None, 13, 13, 32)       0         \n",
            " )                                                               \n",
            "                                                                 \n",
            " dropout (Dropout)           (None, 13, 13, 32)        0         \n",
            "                                                                 \n",
            " conv2d_1 (Conv2D)           (None, 11, 11, 64)        18496     \n",
            "                                                                 \n",
            " max_pooling2d_1 (MaxPooling  (None, 5, 5, 64)         0         \n",
            " 2D)                                                             \n",
            "                                                                 \n",
            " dropout_1 (Dropout)         (None, 5, 5, 64)          0         \n",
            "                                                                 \n",
            " flatten (Flatten)           (None, 1600)              0         \n",
            "                                                                 \n",
            " dense (Dense)               (None, 128)               204928    \n",
            "                                                                 \n",
            " dropout_2 (Dropout)         (None, 128)               0         \n",
            "                                                                 \n",
            " dense_1 (Dense)             (None, 10)                1290      \n",
            "                                                                 \n",
            "=================================================================\n",
            "Total params: 225,034\n",
            "Trainable params: 225,034\n",
            "Non-trainable params: 0\n",
            "_________________________________________________________________\n"
          ]
        },
        {
          "output_type": "execute_result",
          "data": {
            "image/png": "[encoded data removed]",
            "text/plain": [
              "<IPython.core.display.Image object>"
            ]
          },
          "metadata": {},
          "execution_count": 8
        }
      ],
      "source": [
        "# model baseline\n",
        "model = tf.keras.Sequential([\n",
        "    tf.keras.layers.InputLayer(input_shape= (28, 28, 1)), \n",
        "    tf.keras.layers.Conv2D(32, kernel_size=(3, 3), activation='relu'),\n",
        "    tf.keras.layers.MaxPooling2D(pool_size=(2, 2)),\n",
        "    tf.keras.layers.Dropout(0.25),\n",
        "    tf.keras.layers.Conv2D(64, kernel_size=(3, 3), activation='relu'),\n",
        "    tf.keras.layers.MaxPooling2D(pool_size=(2, 2)),\n",
        "    tf.keras.layers.Dropout(0.25),\n",
        "    tf.keras.layers.Flatten(),\n",
        "    tf.keras.layers.Dense(128, activation='relu'),\n",
        "    tf.keras.layers.Dropout(0.25),\n",
        "    tf.keras.layers.Dense(10, activation='softmax')\n",
        "])\n",
        "\n",
        "model.summary()\n",
        "\n",
        "plot_model(model, to_file='model_plot.png', show_shapes=True, show_layer_names=True)"
      ]
    },
    {
      "cell_type": "code",
      "execution_count": 9,
      "metadata": {
        "colab": {
          "base_uri": "https://localhost:8080/",
          "height": 1000
        },
        "id": "ihGPkhoZZ2VP",
        "outputId": "72271d0a-8e60-4b7e-db6d-d76a2a8694cb"
      },
      "outputs": [
        {
          "output_type": "stream",
          "name": "stdout",
          "text": [
            "Epoch 1/15\n"
          ]
        },
        {
          "output_type": "stream",
          "name": "stderr",
          "text": [
            "/usr/local/lib/python3.9/dist-packages/keras/backend.py:5585: UserWarning: \"`sparse_categorical_crossentropy` received `from_logits=True`, but the `output` argument was produced by a Softmax activation and thus does not represent logits. Was this intended?\n",
            "  output, from_logits = _get_logits(\n"
          ]
        },
        {
          "output_type": "stream",
          "name": "stdout",
          "text": [
            "1488/1500 [============================>.] - ETA: 0s - loss: 0.5863 - accuracy: 0.7837\n",
            "Epoch 1: val_accuracy improved from -inf to 0.86417, saving model to /content/drive/My Drive/Computer_Vision/Assignment_4/modelbaseline_weights.h5\n",
            "1500/1500 [==============================] - 19s 5ms/step - loss: 0.5852 - accuracy: 0.7841 - val_loss: 0.3822 - val_accuracy: 0.8642\n",
            "Epoch 2/15\n",
            "1492/1500 [============================>.] - ETA: 0s - loss: 0.3937 - accuracy: 0.8570\n",
            "Epoch 2: val_accuracy improved from 0.86417 to 0.88592, saving model to /content/drive/My Drive/Computer_Vision/Assignment_4/modelbaseline_weights.h5\n",
            "1500/1500 [==============================] - 8s 5ms/step - loss: 0.3934 - accuracy: 0.8571 - val_loss: 0.3171 - val_accuracy: 0.8859\n",
            "Epoch 3/15\n",
            "1497/1500 [============================>.] - ETA: 0s - loss: 0.3413 - accuracy: 0.8747\n",
            "Epoch 3: val_accuracy improved from 0.88592 to 0.89058, saving model to /content/drive/My Drive/Computer_Vision/Assignment_4/modelbaseline_weights.h5\n",
            "1500/1500 [==============================] - 7s 5ms/step - loss: 0.3412 - accuracy: 0.8747 - val_loss: 0.2940 - val_accuracy: 0.8906\n",
            "Epoch 4/15\n",
            "1499/1500 [============================>.] - ETA: 0s - loss: 0.3093 - accuracy: 0.8881\n",
            "Epoch 4: val_accuracy improved from 0.89058 to 0.89650, saving model to /content/drive/My Drive/Computer_Vision/Assignment_4/modelbaseline_weights.h5\n",
            "1500/1500 [==============================] - 8s 6ms/step - loss: 0.3093 - accuracy: 0.8880 - val_loss: 0.2759 - val_accuracy: 0.8965\n",
            "Epoch 5/15\n",
            "1494/1500 [============================>.] - ETA: 0s - loss: 0.2948 - accuracy: 0.8907\n",
            "Epoch 5: val_accuracy improved from 0.89650 to 0.90383, saving model to /content/drive/My Drive/Computer_Vision/Assignment_4/modelbaseline_weights.h5\n",
            "1500/1500 [==============================] - 7s 4ms/step - loss: 0.2948 - accuracy: 0.8907 - val_loss: 0.2651 - val_accuracy: 0.9038\n",
            "Epoch 6/15\n",
            "1488/1500 [============================>.] - ETA: 0s - loss: 0.2791 - accuracy: 0.8977\n",
            "Epoch 6: val_accuracy improved from 0.90383 to 0.90508, saving model to /content/drive/My Drive/Computer_Vision/Assignment_4/modelbaseline_weights.h5\n",
            "1500/1500 [==============================] - 8s 5ms/step - loss: 0.2792 - accuracy: 0.8977 - val_loss: 0.2553 - val_accuracy: 0.9051\n",
            "Epoch 7/15\n",
            "1499/1500 [============================>.] - ETA: 0s - loss: 0.2650 - accuracy: 0.9002\n",
            "Epoch 7: val_accuracy did not improve from 0.90508\n",
            "1500/1500 [==============================] - 7s 5ms/step - loss: 0.2650 - accuracy: 0.9002 - val_loss: 0.2617 - val_accuracy: 0.9037\n",
            "Epoch 8/15\n",
            "1494/1500 [============================>.] - ETA: 0s - loss: 0.2549 - accuracy: 0.9061\n",
            "Epoch 8: val_accuracy improved from 0.90508 to 0.91383, saving model to /content/drive/My Drive/Computer_Vision/Assignment_4/modelbaseline_weights.h5\n",
            "1500/1500 [==============================] - 7s 5ms/step - loss: 0.2548 - accuracy: 0.9062 - val_loss: 0.2426 - val_accuracy: 0.9138\n",
            "Epoch 9/15\n",
            "1493/1500 [============================>.] - ETA: 0s - loss: 0.2467 - accuracy: 0.9062\n",
            "Epoch 9: val_accuracy did not improve from 0.91383\n",
            "1500/1500 [==============================] - 7s 5ms/step - loss: 0.2466 - accuracy: 0.9062 - val_loss: 0.2425 - val_accuracy: 0.9127\n",
            "Epoch 10/15\n",
            "1500/1500 [==============================] - ETA: 0s - loss: 0.2407 - accuracy: 0.9108\n",
            "Epoch 10: val_accuracy improved from 0.91383 to 0.91450, saving model to /content/drive/My Drive/Computer_Vision/Assignment_4/modelbaseline_weights.h5\n",
            "1500/1500 [==============================] - 7s 5ms/step - loss: 0.2407 - accuracy: 0.9108 - val_loss: 0.2351 - val_accuracy: 0.9145\n",
            "Epoch 11/15\n",
            "1492/1500 [============================>.] - ETA: 0s - loss: 0.2346 - accuracy: 0.9130\n",
            "Epoch 11: val_accuracy improved from 0.91450 to 0.91725, saving model to /content/drive/My Drive/Computer_Vision/Assignment_4/modelbaseline_weights.h5\n",
            "1500/1500 [==============================] - 8s 5ms/step - loss: 0.2343 - accuracy: 0.9130 - val_loss: 0.2355 - val_accuracy: 0.9172\n",
            "Epoch 12/15\n",
            "1490/1500 [============================>.] - ETA: 0s - loss: 0.2320 - accuracy: 0.9146\n",
            "Epoch 12: val_accuracy did not improve from 0.91725\n",
            "1500/1500 [==============================] - 6s 4ms/step - loss: 0.2317 - accuracy: 0.9148 - val_loss: 0.2329 - val_accuracy: 0.9158\n",
            "Epoch 13/15\n",
            "1492/1500 [============================>.] - ETA: 0s - loss: 0.2212 - accuracy: 0.9155\n",
            "Epoch 13: val_accuracy did not improve from 0.91725\n",
            "1500/1500 [==============================] - 7s 5ms/step - loss: 0.2213 - accuracy: 0.9155 - val_loss: 0.2423 - val_accuracy: 0.9121\n",
            "Epoch 14/15\n",
            "1498/1500 [============================>.] - ETA: 0s - loss: 0.2193 - accuracy: 0.9166\n",
            "Epoch 14: val_accuracy did not improve from 0.91725\n",
            "1500/1500 [==============================] - 7s 5ms/step - loss: 0.2193 - accuracy: 0.9166 - val_loss: 0.2304 - val_accuracy: 0.9163\n",
            "Epoch 15/15\n",
            "1499/1500 [============================>.] - ETA: 0s - loss: 0.2138 - accuracy: 0.9188\n",
            "Epoch 15: val_accuracy did not improve from 0.91725\n",
            "1500/1500 [==============================] - 8s 5ms/step - loss: 0.2138 - accuracy: 0.9188 - val_loss: 0.2403 - val_accuracy: 0.9112\n"
          ]
        },
        {
          "output_type": "display_data",
          "data": {
            "text/plain": [
              "<Figure size 640x480 with 1 Axes>"
            ],
            "image/png": "[encoded data removed]"
          },
          "metadata": {}
        }
      ],
      "source": [
        "train_model(model, train_images, train_labels, validation_images,validation_labels, 'modelbaseline_weights.h5')"
      ]
    },
    {
      "cell_type": "markdown",
      "metadata": {
        "id": "bIV1mQ1MdRkd"
      },
      "source": [
        "### Four baseline model variants"
      ]
    },
    {
      "cell_type": "code",
      "execution_count": 10,
      "metadata": {
        "colab": {
          "base_uri": "https://localhost:8080/",
          "height": 1000
        },
        "id": "YCGk-JEoLqvs",
        "outputId": "1940a4b8-5a68-4118-bde4-856b4a5e4250"
      },
      "outputs": [
        {
          "output_type": "stream",
          "name": "stdout",
          "text": [
            "Epoch 1/15\n",
            "1495/1500 [============================>.] - ETA: 0s - loss: 0.6332 - accuracy: 0.7670\n",
            "Epoch 1: val_accuracy improved from -inf to 0.85175, saving model to /content/drive/My Drive/Computer_Vision/Assignment_4/modelkernel_weights.h5\n",
            "1500/1500 [==============================] - 9s 5ms/step - loss: 0.6327 - accuracy: 0.7672 - val_loss: 0.4117 - val_accuracy: 0.8518\n",
            "Epoch 2/15\n",
            "1490/1500 [============================>.] - ETA: 0s - loss: 0.4303 - accuracy: 0.8431\n",
            "Epoch 2: val_accuracy improved from 0.85175 to 0.86975, saving model to /content/drive/My Drive/Computer_Vision/Assignment_4/modelkernel_weights.h5\n",
            "1500/1500 [==============================] - 7s 5ms/step - loss: 0.4303 - accuracy: 0.8431 - val_loss: 0.3681 - val_accuracy: 0.8698\n",
            "Epoch 3/15\n",
            "1487/1500 [============================>.] - ETA: 0s - loss: 0.3769 - accuracy: 0.8616\n",
            "Epoch 3: val_accuracy improved from 0.86975 to 0.87242, saving model to /content/drive/My Drive/Computer_Vision/Assignment_4/modelkernel_weights.h5\n",
            "1500/1500 [==============================] - 7s 4ms/step - loss: 0.3775 - accuracy: 0.8616 - val_loss: 0.3442 - val_accuracy: 0.8724\n",
            "Epoch 4/15\n",
            "1495/1500 [============================>.] - ETA: 0s - loss: 0.3550 - accuracy: 0.8690\n",
            "Epoch 4: val_accuracy improved from 0.87242 to 0.88608, saving model to /content/drive/My Drive/Computer_Vision/Assignment_4/modelkernel_weights.h5\n",
            "1500/1500 [==============================] - 7s 5ms/step - loss: 0.3550 - accuracy: 0.8690 - val_loss: 0.3114 - val_accuracy: 0.8861\n",
            "Epoch 5/15\n",
            "1499/1500 [============================>.] - ETA: 0s - loss: 0.3364 - accuracy: 0.8762\n",
            "Epoch 5: val_accuracy did not improve from 0.88608\n",
            "1500/1500 [==============================] - 7s 5ms/step - loss: 0.3364 - accuracy: 0.8762 - val_loss: 0.3210 - val_accuracy: 0.8772\n",
            "Epoch 6/15\n",
            "1492/1500 [============================>.] - ETA: 0s - loss: 0.3242 - accuracy: 0.8782\n",
            "Epoch 6: val_accuracy improved from 0.88608 to 0.88917, saving model to /content/drive/My Drive/Computer_Vision/Assignment_4/modelkernel_weights.h5\n",
            "1500/1500 [==============================] - 7s 5ms/step - loss: 0.3243 - accuracy: 0.8782 - val_loss: 0.3020 - val_accuracy: 0.8892\n",
            "Epoch 7/15\n",
            "1499/1500 [============================>.] - ETA: 0s - loss: 0.3093 - accuracy: 0.8850\n",
            "Epoch 7: val_accuracy did not improve from 0.88917\n",
            "1500/1500 [==============================] - 7s 4ms/step - loss: 0.3093 - accuracy: 0.8850 - val_loss: 0.3095 - val_accuracy: 0.8838\n",
            "Epoch 8/15\n",
            "1500/1500 [==============================] - ETA: 0s - loss: 0.3033 - accuracy: 0.8857\n",
            "Epoch 8: val_accuracy improved from 0.88917 to 0.89133, saving model to /content/drive/My Drive/Computer_Vision/Assignment_4/modelkernel_weights.h5\n",
            "1500/1500 [==============================] - 7s 5ms/step - loss: 0.3033 - accuracy: 0.8857 - val_loss: 0.2891 - val_accuracy: 0.8913\n",
            "Epoch 9/15\n",
            "1499/1500 [============================>.] - ETA: 0s - loss: 0.2891 - accuracy: 0.8906\n",
            "Epoch 9: val_accuracy improved from 0.89133 to 0.89392, saving model to /content/drive/My Drive/Computer_Vision/Assignment_4/modelkernel_weights.h5\n",
            "1500/1500 [==============================] - 7s 5ms/step - loss: 0.2891 - accuracy: 0.8905 - val_loss: 0.2909 - val_accuracy: 0.8939\n",
            "Epoch 10/15\n",
            "1492/1500 [============================>.] - ETA: 0s - loss: 0.2837 - accuracy: 0.8934\n",
            "Epoch 10: val_accuracy did not improve from 0.89392\n",
            "1500/1500 [==============================] - 7s 5ms/step - loss: 0.2839 - accuracy: 0.8935 - val_loss: 0.2948 - val_accuracy: 0.8902\n",
            "Epoch 11/15\n",
            "1492/1500 [============================>.] - ETA: 0s - loss: 0.2791 - accuracy: 0.8952\n",
            "Epoch 11: val_accuracy did not improve from 0.89392\n",
            "1500/1500 [==============================] - 7s 5ms/step - loss: 0.2791 - accuracy: 0.8952 - val_loss: 0.2892 - val_accuracy: 0.8917\n",
            "Epoch 12/15\n",
            "1494/1500 [============================>.] - ETA: 0s - loss: 0.2721 - accuracy: 0.8974\n",
            "Epoch 12: val_accuracy improved from 0.89392 to 0.89800, saving model to /content/drive/My Drive/Computer_Vision/Assignment_4/modelkernel_weights.h5\n",
            "1500/1500 [==============================] - 7s 5ms/step - loss: 0.2720 - accuracy: 0.8974 - val_loss: 0.2779 - val_accuracy: 0.8980\n",
            "Epoch 13/15\n",
            "1500/1500 [==============================] - ETA: 0s - loss: 0.2672 - accuracy: 0.8982\n",
            "Epoch 13: val_accuracy improved from 0.89800 to 0.90075, saving model to /content/drive/My Drive/Computer_Vision/Assignment_4/modelkernel_weights.h5\n",
            "1500/1500 [==============================] - 8s 5ms/step - loss: 0.2672 - accuracy: 0.8982 - val_loss: 0.2736 - val_accuracy: 0.9007\n",
            "Epoch 14/15\n",
            "1499/1500 [============================>.] - ETA: 0s - loss: 0.2604 - accuracy: 0.9001\n",
            "Epoch 14: val_accuracy did not improve from 0.90075\n",
            "1500/1500 [==============================] - 6s 4ms/step - loss: 0.2607 - accuracy: 0.9000 - val_loss: 0.2826 - val_accuracy: 0.8975\n",
            "Epoch 15/15\n",
            "1492/1500 [============================>.] - ETA: 0s - loss: 0.2603 - accuracy: 0.9017\n",
            "Epoch 15: val_accuracy did not improve from 0.90075\n",
            "1500/1500 [==============================] - 7s 5ms/step - loss: 0.2604 - accuracy: 0.9017 - val_loss: 0.2832 - val_accuracy: 0.8960\n"
          ]
        },
        {
          "output_type": "display_data",
          "data": {
            "text/plain": [
              "<Figure size 640x480 with 1 Axes>"
            ],
            "image/png": "[encoded data removed]"
          },
          "metadata": {}
        }
      ],
      "source": [
        "# model 1: kernel size changed\n",
        "model_kernel = tf.keras.Sequential([\n",
        "    tf.keras.layers.InputLayer(input_shape= (28, 28, 1)), \n",
        "    tf.keras.layers.Conv2D(32, kernel_size=(7, 7), activation='relu'),\n",
        "    tf.keras.layers.MaxPooling2D(pool_size=(2, 2)),\n",
        "    tf.keras.layers.Dropout(0.25),\n",
        "    tf.keras.layers.Conv2D(64, kernel_size=(7, 7), activation='relu'),\n",
        "    tf.keras.layers.MaxPooling2D(pool_size=(2, 2)),\n",
        "    tf.keras.layers.Dropout(0.25),\n",
        "    tf.keras.layers.Flatten(),\n",
        "    tf.keras.layers.Dense(128, activation='relu'),\n",
        "    tf.keras.layers.Dropout(0.25),\n",
        "    tf.keras.layers.Dense(10, activation='softmax')\n",
        "])\n",
        "\n",
        "train_model(model_kernel, train_images, train_labels, validation_images,validation_labels, 'modelkernel_weights.h5')"
      ]
    },
    {
      "cell_type": "code",
      "execution_count": 41,
      "metadata": {
        "colab": {
          "base_uri": "https://localhost:8080/",
          "height": 1000
        },
        "id": "oudTioTtL6eM",
        "outputId": "3c20f3d3-0a8b-4a37-c3e9-ea6eca003160"
      },
      "outputs": [
        {
          "output_type": "stream",
          "name": "stdout",
          "text": [
            "Epoch 1/15\n",
            "1490/1500 [============================>.] - ETA: 0s - loss: 0.5020 - accuracy: 0.8202\n",
            "Epoch 1: val_accuracy improved from -inf to 0.87700, saving model to /content/drive/My Drive/Computer_Vision/Assignment_4/model_BN_weights.h5\n",
            "1500/1500 [==============================] - 11s 6ms/step - loss: 0.5017 - accuracy: 0.8203 - val_loss: 0.3339 - val_accuracy: 0.8770\n",
            "Epoch 2/15\n",
            "1495/1500 [============================>.] - ETA: 0s - loss: 0.3709 - accuracy: 0.8650\n",
            "Epoch 2: val_accuracy did not improve from 0.87700\n",
            "1500/1500 [==============================] - 8s 5ms/step - loss: 0.3706 - accuracy: 0.8651 - val_loss: 0.3359 - val_accuracy: 0.8730\n",
            "Epoch 3/15\n",
            "1499/1500 [============================>.] - ETA: 0s - loss: 0.3340 - accuracy: 0.8758\n",
            "Epoch 3: val_accuracy improved from 0.87700 to 0.89567, saving model to /content/drive/My Drive/Computer_Vision/Assignment_4/model_BN_weights.h5\n",
            "1500/1500 [==============================] - 9s 6ms/step - loss: 0.3339 - accuracy: 0.8758 - val_loss: 0.2837 - val_accuracy: 0.8957\n",
            "Epoch 4/15\n",
            "1494/1500 [============================>.] - ETA: 0s - loss: 0.3098 - accuracy: 0.8854\n",
            "Epoch 4: val_accuracy did not improve from 0.89567\n",
            "1500/1500 [==============================] - 9s 6ms/step - loss: 0.3099 - accuracy: 0.8853 - val_loss: 0.3018 - val_accuracy: 0.8886\n",
            "Epoch 5/15\n",
            "1499/1500 [============================>.] - ETA: 0s - loss: 0.2981 - accuracy: 0.8903\n",
            "Epoch 5: val_accuracy improved from 0.89567 to 0.90250, saving model to /content/drive/My Drive/Computer_Vision/Assignment_4/model_BN_weights.h5\n",
            "1500/1500 [==============================] - 8s 5ms/step - loss: 0.2980 - accuracy: 0.8904 - val_loss: 0.2636 - val_accuracy: 0.9025\n",
            "Epoch 6/15\n",
            "1495/1500 [============================>.] - ETA: 0s - loss: 0.2860 - accuracy: 0.8954\n",
            "Epoch 6: val_accuracy improved from 0.90250 to 0.91025, saving model to /content/drive/My Drive/Computer_Vision/Assignment_4/model_BN_weights.h5\n",
            "1500/1500 [==============================] - 9s 6ms/step - loss: 0.2860 - accuracy: 0.8954 - val_loss: 0.2464 - val_accuracy: 0.9103\n",
            "Epoch 7/15\n",
            "1493/1500 [============================>.] - ETA: 0s - loss: 0.2723 - accuracy: 0.8987\n",
            "Epoch 7: val_accuracy did not improve from 0.91025\n",
            "1500/1500 [==============================] - 9s 6ms/step - loss: 0.2723 - accuracy: 0.8986 - val_loss: 0.2537 - val_accuracy: 0.9031\n",
            "Epoch 8/15\n",
            "1499/1500 [============================>.] - ETA: 0s - loss: 0.2581 - accuracy: 0.9038\n",
            "Epoch 8: val_accuracy improved from 0.91025 to 0.91058, saving model to /content/drive/My Drive/Computer_Vision/Assignment_4/model_BN_weights.h5\n",
            "1500/1500 [==============================] - 8s 5ms/step - loss: 0.2581 - accuracy: 0.9038 - val_loss: 0.2456 - val_accuracy: 0.9106\n",
            "Epoch 9/15\n",
            "1496/1500 [============================>.] - ETA: 0s - loss: 0.2525 - accuracy: 0.9059\n",
            "Epoch 9: val_accuracy improved from 0.91058 to 0.91283, saving model to /content/drive/My Drive/Computer_Vision/Assignment_4/model_BN_weights.h5\n",
            "1500/1500 [==============================] - 9s 6ms/step - loss: 0.2524 - accuracy: 0.9060 - val_loss: 0.2375 - val_accuracy: 0.9128\n",
            "Epoch 10/15\n",
            "1494/1500 [============================>.] - ETA: 0s - loss: 0.2452 - accuracy: 0.9090\n",
            "Epoch 10: val_accuracy improved from 0.91283 to 0.91725, saving model to /content/drive/My Drive/Computer_Vision/Assignment_4/model_BN_weights.h5\n",
            "1500/1500 [==============================] - 9s 6ms/step - loss: 0.2454 - accuracy: 0.9089 - val_loss: 0.2243 - val_accuracy: 0.9172\n",
            "Epoch 11/15\n",
            "1497/1500 [============================>.] - ETA: 0s - loss: 0.2394 - accuracy: 0.9099\n",
            "Epoch 11: val_accuracy did not improve from 0.91725\n",
            "1500/1500 [==============================] - 8s 5ms/step - loss: 0.2393 - accuracy: 0.9100 - val_loss: 0.2361 - val_accuracy: 0.9114\n",
            "Epoch 12/15\n",
            "1498/1500 [============================>.] - ETA: 0s - loss: 0.2365 - accuracy: 0.9113\n",
            "Epoch 12: val_accuracy did not improve from 0.91725\n",
            "1500/1500 [==============================] - 8s 6ms/step - loss: 0.2365 - accuracy: 0.9113 - val_loss: 0.2673 - val_accuracy: 0.8985\n",
            "Epoch 13/15\n",
            "1500/1500 [==============================] - ETA: 0s - loss: 0.2289 - accuracy: 0.9154\n",
            "Epoch 13: val_accuracy improved from 0.91725 to 0.91917, saving model to /content/drive/My Drive/Computer_Vision/Assignment_4/model_BN_weights.h5\n",
            "1500/1500 [==============================] - 8s 6ms/step - loss: 0.2289 - accuracy: 0.9154 - val_loss: 0.2232 - val_accuracy: 0.9192\n",
            "Epoch 14/15\n",
            "1497/1500 [============================>.] - ETA: 0s - loss: 0.2229 - accuracy: 0.9171\n",
            "Epoch 14: val_accuracy did not improve from 0.91917\n",
            "1500/1500 [==============================] - 8s 5ms/step - loss: 0.2229 - accuracy: 0.9171 - val_loss: 0.2222 - val_accuracy: 0.9186\n",
            "Epoch 15/15\n",
            "1499/1500 [============================>.] - ETA: 0s - loss: 0.2191 - accuracy: 0.9180\n",
            "Epoch 15: val_accuracy did not improve from 0.91917\n",
            "1500/1500 [==============================] - 9s 6ms/step - loss: 0.2191 - accuracy: 0.9180 - val_loss: 0.2250 - val_accuracy: 0.9175\n"
          ]
        },
        {
          "output_type": "display_data",
          "data": {
            "text/plain": [
              "<Figure size 640x480 with 1 Axes>"
            ],
            "image/png": "[encoded data removed]"
          },
          "metadata": {}
        }
      ],
      "source": [
        "# model 2: batch normalization\n",
        "model_norm = tf.keras.Sequential([\n",
        "    tf.keras.layers.InputLayer(input_shape= (28, 28, 1)), \n",
        "    tf.keras.layers.Conv2D(32, kernel_size=(3, 3)),\n",
        "    tf.keras.layers.BatchNormalization(),\n",
        "    tf.keras.layers.Activation('relu'),\n",
        "    tf.keras.layers.MaxPooling2D(pool_size=(2, 2)),\n",
        "    tf.keras.layers.Dropout(0.25),\n",
        "    tf.keras.layers.Conv2D(64, kernel_size=(3, 3)),\n",
        "    tf.keras.layers.BatchNormalization(),\n",
        "    tf.keras.layers.Activation('relu'),\n",
        "    tf.keras.layers.MaxPooling2D(pool_size=(2, 2)),\n",
        "    tf.keras.layers.Dropout(0.25),\n",
        "    tf.keras.layers.Flatten(),\n",
        "    tf.keras.layers.Dense(128),\n",
        "    tf.keras.layers.BatchNormalization(),\n",
        "    tf.keras.layers.Activation('relu'),\n",
        "    tf.keras.layers.Dropout(0.25),\n",
        "    tf.keras.layers.Dense(10, activation='softmax')\n",
        "]) \n",
        "\n",
        "train_model(model_norm,train_images, train_labels, validation_images,validation_labels, 'model_BN_weights.h5')"
      ]
    },
    {
      "cell_type": "code",
      "execution_count": 12,
      "metadata": {
        "colab": {
          "base_uri": "https://localhost:8080/",
          "height": 1000
        },
        "id": "b1Zc6I0VL7TU",
        "outputId": "31f4581d-72e3-4cea-90fd-c8ff840d62f2"
      },
      "outputs": [
        {
          "output_type": "stream",
          "name": "stderr",
          "text": [
            "/usr/local/lib/python3.9/dist-packages/keras/optimizers/optimizer_v2/gradient_descent.py:114: UserWarning: The `lr` argument is deprecated, use `learning_rate` instead.\n",
            "  super().__init__(name, **kwargs)\n"
          ]
        },
        {
          "output_type": "stream",
          "name": "stdout",
          "text": [
            "Epoch 1/15\n",
            "1499/1500 [============================>.] - ETA: 0s - loss: 0.7110 - accuracy: 0.7294\n",
            "Epoch 1: val_accuracy improved from -inf to 0.81842, saving model to /content/drive/My Drive/Computer_Vision/Assignment_4/model_LR_weights.h5\n",
            "1500/1500 [==============================] - 7s 4ms/step - loss: 0.7109 - accuracy: 0.7295 - val_loss: 0.4714 - val_accuracy: 0.8184\n",
            "Epoch 2/15\n",
            "1489/1500 [============================>.] - ETA: 0s - loss: 0.4712 - accuracy: 0.8235\n",
            "Epoch 2: val_accuracy improved from 0.81842 to 0.86067, saving model to /content/drive/My Drive/Computer_Vision/Assignment_4/model_LR_weights.h5\n",
            "1500/1500 [==============================] - 7s 5ms/step - loss: 0.4709 - accuracy: 0.8239 - val_loss: 0.3733 - val_accuracy: 0.8607\n",
            "Epoch 3/15\n",
            "1486/1500 [============================>.] - ETA: 0s - loss: 0.4063 - accuracy: 0.8497\n",
            "Epoch 3: val_accuracy improved from 0.86067 to 0.87375, saving model to /content/drive/My Drive/Computer_Vision/Assignment_4/model_LR_weights.h5\n",
            "1500/1500 [==============================] - 6s 4ms/step - loss: 0.4066 - accuracy: 0.8497 - val_loss: 0.3400 - val_accuracy: 0.8737\n",
            "Epoch 4/15\n",
            "1490/1500 [============================>.] - ETA: 0s - loss: 0.3689 - accuracy: 0.8629\n",
            "Epoch 4: val_accuracy improved from 0.87375 to 0.88050, saving model to /content/drive/My Drive/Computer_Vision/Assignment_4/model_LR_weights.h5\n",
            "1500/1500 [==============================] - 7s 5ms/step - loss: 0.3691 - accuracy: 0.8628 - val_loss: 0.3164 - val_accuracy: 0.8805\n",
            "Epoch 5/15\n",
            "1498/1500 [============================>.] - ETA: 0s - loss: 0.3451 - accuracy: 0.8724\n",
            "Epoch 5: val_accuracy improved from 0.88050 to 0.88700, saving model to /content/drive/My Drive/Computer_Vision/Assignment_4/model_LR_weights.h5\n",
            "1500/1500 [==============================] - 6s 4ms/step - loss: 0.3450 - accuracy: 0.8724 - val_loss: 0.3023 - val_accuracy: 0.8870\n",
            "Epoch 6/15\n",
            "1494/1500 [============================>.] - ETA: 0s - loss: 0.3306 - accuracy: 0.8778\n",
            "Epoch 6: val_accuracy improved from 0.88700 to 0.89367, saving model to /content/drive/My Drive/Computer_Vision/Assignment_4/model_LR_weights.h5\n",
            "1500/1500 [==============================] - 7s 5ms/step - loss: 0.3308 - accuracy: 0.8777 - val_loss: 0.2818 - val_accuracy: 0.8937\n",
            "Epoch 7/15\n",
            "1489/1500 [============================>.] - ETA: 0s - loss: 0.3155 - accuracy: 0.8828\n",
            "Epoch 7: val_accuracy improved from 0.89367 to 0.89533, saving model to /content/drive/My Drive/Computer_Vision/Assignment_4/model_LR_weights.h5\n",
            "1500/1500 [==============================] - 7s 4ms/step - loss: 0.3157 - accuracy: 0.8829 - val_loss: 0.2823 - val_accuracy: 0.8953\n",
            "Epoch 8/15\n",
            "1492/1500 [============================>.] - ETA: 0s - loss: 0.3066 - accuracy: 0.8851\n",
            "Epoch 8: val_accuracy improved from 0.89533 to 0.90092, saving model to /content/drive/My Drive/Computer_Vision/Assignment_4/model_LR_weights.h5\n",
            "1500/1500 [==============================] - 6s 4ms/step - loss: 0.3066 - accuracy: 0.8850 - val_loss: 0.2707 - val_accuracy: 0.9009\n",
            "Epoch 9/15\n",
            "1487/1500 [============================>.] - ETA: 0s - loss: 0.2967 - accuracy: 0.8886\n",
            "Epoch 9: val_accuracy improved from 0.90092 to 0.90442, saving model to /content/drive/My Drive/Computer_Vision/Assignment_4/model_LR_weights.h5\n",
            "1500/1500 [==============================] - 6s 4ms/step - loss: 0.2962 - accuracy: 0.8888 - val_loss: 0.2587 - val_accuracy: 0.9044\n",
            "Epoch 10/15\n",
            "1494/1500 [============================>.] - ETA: 0s - loss: 0.2878 - accuracy: 0.8927\n",
            "Epoch 10: val_accuracy did not improve from 0.90442\n",
            "1500/1500 [==============================] - 6s 4ms/step - loss: 0.2877 - accuracy: 0.8927 - val_loss: 0.2584 - val_accuracy: 0.9044\n",
            "Epoch 11/15\n",
            "1490/1500 [============================>.] - ETA: 0s - loss: 0.2791 - accuracy: 0.8952\n",
            "Epoch 11: val_accuracy improved from 0.90442 to 0.90475, saving model to /content/drive/My Drive/Computer_Vision/Assignment_4/model_LR_weights.h5\n",
            "1500/1500 [==============================] - 6s 4ms/step - loss: 0.2790 - accuracy: 0.8953 - val_loss: 0.2585 - val_accuracy: 0.9047\n",
            "Epoch 12/15\n",
            "1494/1500 [============================>.] - ETA: 0s - loss: 0.2736 - accuracy: 0.8969\n",
            "Epoch 12: val_accuracy improved from 0.90475 to 0.90608, saving model to /content/drive/My Drive/Computer_Vision/Assignment_4/model_LR_weights.h5\n",
            "1500/1500 [==============================] - 6s 4ms/step - loss: 0.2733 - accuracy: 0.8969 - val_loss: 0.2560 - val_accuracy: 0.9061\n",
            "Epoch 13/15\n",
            "1492/1500 [============================>.] - ETA: 0s - loss: 0.2658 - accuracy: 0.8998\n",
            "Epoch 13: val_accuracy improved from 0.90608 to 0.90675, saving model to /content/drive/My Drive/Computer_Vision/Assignment_4/model_LR_weights.h5\n",
            "1500/1500 [==============================] - 7s 5ms/step - loss: 0.2659 - accuracy: 0.8998 - val_loss: 0.2531 - val_accuracy: 0.9068\n",
            "Epoch 14/15\n",
            "1495/1500 [============================>.] - ETA: 0s - loss: 0.2638 - accuracy: 0.9013\n",
            "Epoch 14: val_accuracy did not improve from 0.90675\n",
            "1500/1500 [==============================] - 6s 4ms/step - loss: 0.2637 - accuracy: 0.9013 - val_loss: 0.2536 - val_accuracy: 0.9052\n",
            "Epoch 15/15\n",
            "1485/1500 [============================>.] - ETA: 0s - loss: 0.2578 - accuracy: 0.9026\n",
            "Epoch 15: val_accuracy did not improve from 0.90675\n",
            "1500/1500 [==============================] - 7s 4ms/step - loss: 0.2575 - accuracy: 0.9027 - val_loss: 0.2529 - val_accuracy: 0.9058\n"
          ]
        },
        {
          "output_type": "display_data",
          "data": {
            "text/plain": [
              "<Figure size 640x480 with 1 Axes>"
            ],
            "image/png": "[encoded data removed]"
          },
          "metadata": {}
        }
      ],
      "source": [
        "# model 3: learing rate \n",
        "model_LR = tf.keras.Sequential([\n",
        "    tf.keras.layers.InputLayer(input_shape= (28, 28, 1)), \n",
        "    tf.keras.layers.Conv2D(32, kernel_size=(3, 3), activation='relu'),\n",
        "    tf.keras.layers.MaxPooling2D(pool_size=(2, 2)),\n",
        "    tf.keras.layers.Dropout(0.25),\n",
        "    tf.keras.layers.Conv2D(64, kernel_size=(3, 3), activation='relu'),\n",
        "    tf.keras.layers.MaxPooling2D(pool_size=(2, 2)),\n",
        "    tf.keras.layers.Dropout(0.25),\n",
        "    tf.keras.layers.Flatten(),\n",
        "    tf.keras.layers.Dense(128, activation='relu'),\n",
        "    tf.keras.layers.Dropout(0.25),\n",
        "    tf.keras.layers.Dense(10, activation='softmax')\n",
        "])\n",
        "\n",
        "train_model_LR(model_LR, train_images, train_labels, validation_images,validation_labels, 'model_LR_weights.h5')"
      ]
    },
    {
      "cell_type": "code",
      "execution_count": 13,
      "metadata": {
        "colab": {
          "base_uri": "https://localhost:8080/",
          "height": 1000
        },
        "id": "mSO2BmVIL_nV",
        "outputId": "acaf5672-64ba-4ce3-a300-b6a81447d5e1"
      },
      "outputs": [
        {
          "output_type": "stream",
          "name": "stdout",
          "text": [
            "Epoch 1/15\n",
            "1494/1500 [============================>.] - ETA: 0s - loss: 1.0258 - accuracy: 0.6160\n",
            "Epoch 1: val_accuracy improved from -inf to 0.75825, saving model to /content/drive/My Drive/Computer_Vision/Assignment_4/model_sigmoid_weights.h5\n",
            "1500/1500 [==============================] - 8s 4ms/step - loss: 1.0246 - accuracy: 0.6163 - val_loss: 0.6109 - val_accuracy: 0.7582\n",
            "Epoch 2/15\n",
            "1492/1500 [============================>.] - ETA: 0s - loss: 0.6163 - accuracy: 0.7632\n",
            "Epoch 2: val_accuracy improved from 0.75825 to 0.79875, saving model to /content/drive/My Drive/Computer_Vision/Assignment_4/model_sigmoid_weights.h5\n",
            "1500/1500 [==============================] - 7s 5ms/step - loss: 0.6163 - accuracy: 0.7632 - val_loss: 0.5181 - val_accuracy: 0.7987\n",
            "Epoch 3/15\n",
            "1494/1500 [============================>.] - ETA: 0s - loss: 0.5407 - accuracy: 0.7916\n",
            "Epoch 3: val_accuracy improved from 0.79875 to 0.81500, saving model to /content/drive/My Drive/Computer_Vision/Assignment_4/model_sigmoid_weights.h5\n",
            "1500/1500 [==============================] - 7s 5ms/step - loss: 0.5409 - accuracy: 0.7916 - val_loss: 0.4801 - val_accuracy: 0.8150\n",
            "Epoch 4/15\n",
            "1495/1500 [============================>.] - ETA: 0s - loss: 0.5015 - accuracy: 0.8081\n",
            "Epoch 4: val_accuracy improved from 0.81500 to 0.82692, saving model to /content/drive/My Drive/Computer_Vision/Assignment_4/model_sigmoid_weights.h5\n",
            "1500/1500 [==============================] - 8s 5ms/step - loss: 0.5015 - accuracy: 0.8080 - val_loss: 0.4493 - val_accuracy: 0.8269\n",
            "Epoch 5/15\n",
            "1491/1500 [============================>.] - ETA: 0s - loss: 0.4715 - accuracy: 0.8206\n",
            "Epoch 5: val_accuracy improved from 0.82692 to 0.84283, saving model to /content/drive/My Drive/Computer_Vision/Assignment_4/model_sigmoid_weights.h5\n",
            "1500/1500 [==============================] - 7s 5ms/step - loss: 0.4718 - accuracy: 0.8204 - val_loss: 0.4163 - val_accuracy: 0.8428\n",
            "Epoch 6/15\n",
            "1488/1500 [============================>.] - ETA: 0s - loss: 0.4495 - accuracy: 0.8273\n",
            "Epoch 6: val_accuracy improved from 0.84283 to 0.84375, saving model to /content/drive/My Drive/Computer_Vision/Assignment_4/model_sigmoid_weights.h5\n",
            "1500/1500 [==============================] - 6s 4ms/step - loss: 0.4496 - accuracy: 0.8273 - val_loss: 0.4119 - val_accuracy: 0.8438\n",
            "Epoch 7/15\n",
            "1496/1500 [============================>.] - ETA: 0s - loss: 0.4288 - accuracy: 0.8357\n",
            "Epoch 7: val_accuracy improved from 0.84375 to 0.85592, saving model to /content/drive/My Drive/Computer_Vision/Assignment_4/model_sigmoid_weights.h5\n",
            "1500/1500 [==============================] - 7s 5ms/step - loss: 0.4286 - accuracy: 0.8357 - val_loss: 0.3886 - val_accuracy: 0.8559\n",
            "Epoch 8/15\n",
            "1487/1500 [============================>.] - ETA: 0s - loss: 0.4133 - accuracy: 0.8424\n",
            "Epoch 8: val_accuracy improved from 0.85592 to 0.85900, saving model to /content/drive/My Drive/Computer_Vision/Assignment_4/model_sigmoid_weights.h5\n",
            "1500/1500 [==============================] - 6s 4ms/step - loss: 0.4133 - accuracy: 0.8424 - val_loss: 0.3686 - val_accuracy: 0.8590\n",
            "Epoch 9/15\n",
            "1499/1500 [============================>.] - ETA: 0s - loss: 0.4042 - accuracy: 0.8462\n",
            "Epoch 9: val_accuracy improved from 0.85900 to 0.86017, saving model to /content/drive/My Drive/Computer_Vision/Assignment_4/model_sigmoid_weights.h5\n",
            "1500/1500 [==============================] - 7s 5ms/step - loss: 0.4041 - accuracy: 0.8462 - val_loss: 0.3691 - val_accuracy: 0.8602\n",
            "Epoch 10/15\n",
            "1495/1500 [============================>.] - ETA: 0s - loss: 0.3913 - accuracy: 0.8511\n",
            "Epoch 10: val_accuracy improved from 0.86017 to 0.86450, saving model to /content/drive/My Drive/Computer_Vision/Assignment_4/model_sigmoid_weights.h5\n",
            "1500/1500 [==============================] - 6s 4ms/step - loss: 0.3916 - accuracy: 0.8510 - val_loss: 0.3582 - val_accuracy: 0.8645\n",
            "Epoch 11/15\n",
            "1494/1500 [============================>.] - ETA: 0s - loss: 0.3798 - accuracy: 0.8546\n",
            "Epoch 11: val_accuracy improved from 0.86450 to 0.87175, saving model to /content/drive/My Drive/Computer_Vision/Assignment_4/model_sigmoid_weights.h5\n",
            "1500/1500 [==============================] - 8s 5ms/step - loss: 0.3798 - accuracy: 0.8545 - val_loss: 0.3425 - val_accuracy: 0.8717\n",
            "Epoch 12/15\n",
            "1498/1500 [============================>.] - ETA: 0s - loss: 0.3671 - accuracy: 0.8601\n",
            "Epoch 12: val_accuracy did not improve from 0.87175\n",
            "1500/1500 [==============================] - 6s 4ms/step - loss: 0.3671 - accuracy: 0.8601 - val_loss: 0.3435 - val_accuracy: 0.8701\n",
            "Epoch 13/15\n",
            "1497/1500 [============================>.] - ETA: 0s - loss: 0.3617 - accuracy: 0.8620\n",
            "Epoch 13: val_accuracy improved from 0.87175 to 0.87475, saving model to /content/drive/My Drive/Computer_Vision/Assignment_4/model_sigmoid_weights.h5\n",
            "1500/1500 [==============================] - 8s 5ms/step - loss: 0.3618 - accuracy: 0.8619 - val_loss: 0.3310 - val_accuracy: 0.8748\n",
            "Epoch 14/15\n",
            "1492/1500 [============================>.] - ETA: 0s - loss: 0.3541 - accuracy: 0.8651\n",
            "Epoch 14: val_accuracy improved from 0.87475 to 0.87600, saving model to /content/drive/My Drive/Computer_Vision/Assignment_4/model_sigmoid_weights.h5\n",
            "1500/1500 [==============================] - 8s 6ms/step - loss: 0.3543 - accuracy: 0.8650 - val_loss: 0.3257 - val_accuracy: 0.8760\n",
            "Epoch 15/15\n",
            "1496/1500 [============================>.] - ETA: 0s - loss: 0.3472 - accuracy: 0.8672\n",
            "Epoch 15: val_accuracy improved from 0.87600 to 0.87625, saving model to /content/drive/My Drive/Computer_Vision/Assignment_4/model_sigmoid_weights.h5\n",
            "1500/1500 [==============================] - 9s 6ms/step - loss: 0.3470 - accuracy: 0.8673 - val_loss: 0.3273 - val_accuracy: 0.8763\n"
          ]
        },
        {
          "output_type": "display_data",
          "data": {
            "text/plain": [
              "<Figure size 640x480 with 1 Axes>"
            ],
            "image/png": "[encoded data removed]"
          },
          "metadata": {}
        }
      ],
      "source": [
        "# model 4: sigmoid\n",
        "model_sigmoid = tf.keras.Sequential([\n",
        "    tf.keras.layers.InputLayer(input_shape= (28, 28, 1)), \n",
        "    tf.keras.layers.Conv2D(32, kernel_size=(3, 3), activation='sigmoid'),\n",
        "    tf.keras.layers.MaxPooling2D(pool_size=(2, 2)),\n",
        "    tf.keras.layers.Dropout(0.25),\n",
        "    tf.keras.layers.Conv2D(64, kernel_size=(3, 3), activation='sigmoid'),\n",
        "    tf.keras.layers.MaxPooling2D(pool_size=(2, 2)),\n",
        "    tf.keras.layers.Dropout(0.25),\n",
        "    tf.keras.layers.Flatten(),\n",
        "    tf.keras.layers.Dense(128, activation='sigmoid'),\n",
        "    tf.keras.layers.Dropout(0.25),\n",
        "    tf.keras.layers.Dense(10, activation='softmax')\n",
        "])\n",
        "\n",
        "\n",
        "train_model(model_sigmoid,train_images, train_labels, validation_images,validation_labels, 'model_sigmoid_weights.h5')"
      ]
    },
    {
      "cell_type": "markdown",
      "metadata": {
        "id": "9IkLBd9PdIsC"
      },
      "source": [
        "### Test the two best models."
      ]
    },
    {
      "cell_type": "code",
      "execution_count": 14,
      "metadata": {
        "colab": {
          "base_uri": "https://localhost:8080/"
        },
        "id": "irnQp5gmXZKn",
        "outputId": "70879ac8-2ee2-410e-aa2c-07ba583b896e"
      },
      "outputs": [
        {
          "output_type": "stream",
          "name": "stdout",
          "text": [
            "Epoch 1/15\n",
            "1874/1875 [============================>.] - ETA: 0s - loss: 0.5554 - accuracy: 0.7954\n",
            "Epoch 1: loss improved from inf to 0.55528, saving model to /content/drive/My Drive/Computer_Vision/Assignment_4/best_BaseModel_weights.h5\n",
            "1875/1875 [==============================] - 9s 4ms/step - loss: 0.5553 - accuracy: 0.7955\n",
            "Epoch 2/15\n",
            "1866/1875 [============================>.] - ETA: 0s - loss: 0.3728 - accuracy: 0.8633\n",
            "Epoch 2: loss improved from 0.55528 to 0.37262, saving model to /content/drive/My Drive/Computer_Vision/Assignment_4/best_BaseModel_weights.h5\n",
            "1875/1875 [==============================] - 8s 4ms/step - loss: 0.3726 - accuracy: 0.8634\n",
            "Epoch 3/15\n",
            "1868/1875 [============================>.] - ETA: 0s - loss: 0.3228 - accuracy: 0.8820\n",
            "Epoch 3: loss improved from 0.37262 to 0.32300, saving model to /content/drive/My Drive/Computer_Vision/Assignment_4/best_BaseModel_weights.h5\n",
            "1875/1875 [==============================] - 8s 4ms/step - loss: 0.3230 - accuracy: 0.8820\n",
            "Epoch 4/15\n",
            "1870/1875 [============================>.] - ETA: 0s - loss: 0.3002 - accuracy: 0.8907\n",
            "Epoch 4: loss improved from 0.32300 to 0.30014, saving model to /content/drive/My Drive/Computer_Vision/Assignment_4/best_BaseModel_weights.h5\n",
            "1875/1875 [==============================] - 7s 4ms/step - loss: 0.3001 - accuracy: 0.8907\n",
            "Epoch 5/15\n",
            "1864/1875 [============================>.] - ETA: 0s - loss: 0.2833 - accuracy: 0.8960\n",
            "Epoch 5: loss improved from 0.30014 to 0.28309, saving model to /content/drive/My Drive/Computer_Vision/Assignment_4/best_BaseModel_weights.h5\n",
            "1875/1875 [==============================] - 8s 4ms/step - loss: 0.2831 - accuracy: 0.8960\n",
            "Epoch 6/15\n",
            "1862/1875 [============================>.] - ETA: 0s - loss: 0.2690 - accuracy: 0.8996\n",
            "Epoch 6: loss improved from 0.28309 to 0.26873, saving model to /content/drive/My Drive/Computer_Vision/Assignment_4/best_BaseModel_weights.h5\n",
            "1875/1875 [==============================] - 7s 4ms/step - loss: 0.2687 - accuracy: 0.8996\n",
            "Epoch 7/15\n",
            "1873/1875 [============================>.] - ETA: 0s - loss: 0.2570 - accuracy: 0.9052\n",
            "Epoch 7: loss improved from 0.26873 to 0.25691, saving model to /content/drive/My Drive/Computer_Vision/Assignment_4/best_BaseModel_weights.h5\n",
            "1875/1875 [==============================] - 8s 4ms/step - loss: 0.2569 - accuracy: 0.9053\n",
            "Epoch 8/15\n",
            "1871/1875 [============================>.] - ETA: 0s - loss: 0.2480 - accuracy: 0.9071\n",
            "Epoch 8: loss improved from 0.25691 to 0.24789, saving model to /content/drive/My Drive/Computer_Vision/Assignment_4/best_BaseModel_weights.h5\n",
            "1875/1875 [==============================] - 7s 4ms/step - loss: 0.2479 - accuracy: 0.9070\n",
            "Epoch 9/15\n",
            "1873/1875 [============================>.] - ETA: 0s - loss: 0.2408 - accuracy: 0.9095\n",
            "Epoch 9: loss improved from 0.24789 to 0.24098, saving model to /content/drive/My Drive/Computer_Vision/Assignment_4/best_BaseModel_weights.h5\n",
            "1875/1875 [==============================] - 8s 4ms/step - loss: 0.2410 - accuracy: 0.9094\n",
            "Epoch 10/15\n",
            "1866/1875 [============================>.] - ETA: 0s - loss: 0.2355 - accuracy: 0.9110\n",
            "Epoch 10: loss improved from 0.24098 to 0.23548, saving model to /content/drive/My Drive/Computer_Vision/Assignment_4/best_BaseModel_weights.h5\n",
            "1875/1875 [==============================] - 8s 4ms/step - loss: 0.2355 - accuracy: 0.9111\n",
            "Epoch 11/15\n",
            "1874/1875 [============================>.] - ETA: 0s - loss: 0.2299 - accuracy: 0.9144\n",
            "Epoch 11: loss improved from 0.23548 to 0.22986, saving model to /content/drive/My Drive/Computer_Vision/Assignment_4/best_BaseModel_weights.h5\n",
            "1875/1875 [==============================] - 8s 4ms/step - loss: 0.2299 - accuracy: 0.9144\n",
            "Epoch 12/15\n",
            "1865/1875 [============================>.] - ETA: 0s - loss: 0.2252 - accuracy: 0.9155\n",
            "Epoch 12: loss improved from 0.22986 to 0.22514, saving model to /content/drive/My Drive/Computer_Vision/Assignment_4/best_BaseModel_weights.h5\n",
            "1875/1875 [==============================] - 8s 4ms/step - loss: 0.2251 - accuracy: 0.9156\n",
            "Epoch 13/15\n",
            "1868/1875 [============================>.] - ETA: 0s - loss: 0.2184 - accuracy: 0.9167\n",
            "Epoch 13: loss improved from 0.22514 to 0.21839, saving model to /content/drive/My Drive/Computer_Vision/Assignment_4/best_BaseModel_weights.h5\n",
            "1875/1875 [==============================] - 7s 4ms/step - loss: 0.2184 - accuracy: 0.9168\n",
            "Epoch 14/15\n",
            "1872/1875 [============================>.] - ETA: 0s - loss: 0.2148 - accuracy: 0.9184\n",
            "Epoch 14: loss improved from 0.21839 to 0.21464, saving model to /content/drive/My Drive/Computer_Vision/Assignment_4/best_BaseModel_weights.h5\n",
            "1875/1875 [==============================] - 8s 4ms/step - loss: 0.2146 - accuracy: 0.9184\n",
            "Epoch 15/15\n",
            "1867/1875 [============================>.] - ETA: 0s - loss: 0.2129 - accuracy: 0.9194\n",
            "Epoch 15: loss improved from 0.21464 to 0.21301, saving model to /content/drive/My Drive/Computer_Vision/Assignment_4/best_BaseModel_weights.h5\n",
            "1875/1875 [==============================] - 7s 4ms/step - loss: 0.2130 - accuracy: 0.9194\n"
          ]
        }
      ],
      "source": [
        "# Train again the best models without a validation set, thus using all training data\n",
        "\n",
        "# model baseline\n",
        "best_model = tf.keras.Sequential([\n",
        "    tf.keras.layers.InputLayer(input_shape= (28, 28, 1)), \n",
        "    tf.keras.layers.Conv2D(32, kernel_size=(3, 3), activation='relu'),\n",
        "    tf.keras.layers.MaxPooling2D(pool_size=(2, 2)),\n",
        "    tf.keras.layers.Dropout(0.25),\n",
        "    tf.keras.layers.Conv2D(64, kernel_size=(3, 3), activation='relu'),\n",
        "    tf.keras.layers.MaxPooling2D(pool_size=(2, 2)),\n",
        "    tf.keras.layers.Dropout(0.25),\n",
        "    tf.keras.layers.Flatten(),\n",
        "    tf.keras.layers.Dense(128, activation='relu'),\n",
        "    tf.keras.layers.Dropout(0.25),\n",
        "    tf.keras.layers.Dense(10, activation='softmax')\n",
        "])\n",
        "\n",
        "train_model_all(best_model, train_images_all, train_labels_all, 'best_BaseModel_weights.h5')"
      ]
    },
    {
      "cell_type": "code",
      "execution_count": 15,
      "metadata": {
        "colab": {
          "base_uri": "https://localhost:8080/"
        },
        "id": "GSUt8y9SQOQt",
        "outputId": "fa5e8024-e84f-4adc-87e4-b4edb5726d19"
      },
      "outputs": [
        {
          "output_type": "stream",
          "name": "stdout",
          "text": [
            "Epoch 1/15\n",
            "1868/1875 [============================>.] - ETA: 0s - loss: 0.4931 - accuracy: 0.8232\n",
            "Epoch 1: loss improved from inf to 0.49274, saving model to /content/drive/My Drive/Computer_Vision/Assignment_4/best_modelBN_weights.h5\n",
            "1875/1875 [==============================] - 12s 5ms/step - loss: 0.4927 - accuracy: 0.8233\n",
            "Epoch 2/15\n",
            "1866/1875 [============================>.] - ETA: 0s - loss: 0.3602 - accuracy: 0.8692\n",
            "Epoch 2: loss improved from 0.49274 to 0.36028, saving model to /content/drive/My Drive/Computer_Vision/Assignment_4/best_modelBN_weights.h5\n",
            "1875/1875 [==============================] - 8s 5ms/step - loss: 0.3603 - accuracy: 0.8693\n",
            "Epoch 3/15\n",
            "1874/1875 [============================>.] - ETA: 0s - loss: 0.3214 - accuracy: 0.8833\n",
            "Epoch 3: loss improved from 0.36028 to 0.32139, saving model to /content/drive/My Drive/Computer_Vision/Assignment_4/best_modelBN_weights.h5\n",
            "1875/1875 [==============================] - 10s 5ms/step - loss: 0.3214 - accuracy: 0.8832\n",
            "Epoch 4/15\n",
            "1868/1875 [============================>.] - ETA: 0s - loss: 0.3050 - accuracy: 0.8886\n",
            "Epoch 4: loss improved from 0.32139 to 0.30493, saving model to /content/drive/My Drive/Computer_Vision/Assignment_4/best_modelBN_weights.h5\n",
            "1875/1875 [==============================] - 9s 5ms/step - loss: 0.3049 - accuracy: 0.8886\n",
            "Epoch 5/15\n",
            "1874/1875 [============================>.] - ETA: 0s - loss: 0.2846 - accuracy: 0.8954\n",
            "Epoch 5: loss improved from 0.30493 to 0.28454, saving model to /content/drive/My Drive/Computer_Vision/Assignment_4/best_modelBN_weights.h5\n",
            "1875/1875 [==============================] - 9s 5ms/step - loss: 0.2845 - accuracy: 0.8954\n",
            "Epoch 6/15\n",
            "1869/1875 [============================>.] - ETA: 0s - loss: 0.2746 - accuracy: 0.8987\n",
            "Epoch 6: loss improved from 0.28454 to 0.27448, saving model to /content/drive/My Drive/Computer_Vision/Assignment_4/best_modelBN_weights.h5\n",
            "1875/1875 [==============================] - 10s 5ms/step - loss: 0.2745 - accuracy: 0.8988\n",
            "Epoch 7/15\n",
            "1868/1875 [============================>.] - ETA: 0s - loss: 0.2627 - accuracy: 0.9028\n",
            "Epoch 7: loss improved from 0.27448 to 0.26250, saving model to /content/drive/My Drive/Computer_Vision/Assignment_4/best_modelBN_weights.h5\n",
            "1875/1875 [==============================] - 10s 5ms/step - loss: 0.2625 - accuracy: 0.9028\n",
            "Epoch 8/15\n",
            "1868/1875 [============================>.] - ETA: 0s - loss: 0.2554 - accuracy: 0.9062\n",
            "Epoch 8: loss improved from 0.26250 to 0.25516, saving model to /content/drive/My Drive/Computer_Vision/Assignment_4/best_modelBN_weights.h5\n",
            "1875/1875 [==============================] - 9s 5ms/step - loss: 0.2552 - accuracy: 0.9064\n",
            "Epoch 9/15\n",
            "1874/1875 [============================>.] - ETA: 0s - loss: 0.2479 - accuracy: 0.9090\n",
            "Epoch 9: loss improved from 0.25516 to 0.24804, saving model to /content/drive/My Drive/Computer_Vision/Assignment_4/best_modelBN_weights.h5\n",
            "1875/1875 [==============================] - 9s 5ms/step - loss: 0.2480 - accuracy: 0.9089\n",
            "Epoch 10/15\n",
            "1874/1875 [============================>.] - ETA: 0s - loss: 0.2403 - accuracy: 0.9109\n",
            "Epoch 10: loss improved from 0.24804 to 0.24033, saving model to /content/drive/My Drive/Computer_Vision/Assignment_4/best_modelBN_weights.h5\n",
            "1875/1875 [==============================] - 10s 5ms/step - loss: 0.2403 - accuracy: 0.9108\n",
            "Epoch 11/15\n",
            "1868/1875 [============================>.] - ETA: 0s - loss: 0.2333 - accuracy: 0.9129\n",
            "Epoch 11: loss improved from 0.24033 to 0.23359, saving model to /content/drive/My Drive/Computer_Vision/Assignment_4/best_modelBN_weights.h5\n",
            "1875/1875 [==============================] - 9s 5ms/step - loss: 0.2336 - accuracy: 0.9129\n",
            "Epoch 12/15\n",
            "1872/1875 [============================>.] - ETA: 0s - loss: 0.2304 - accuracy: 0.9141\n",
            "Epoch 12: loss improved from 0.23359 to 0.23047, saving model to /content/drive/My Drive/Computer_Vision/Assignment_4/best_modelBN_weights.h5\n",
            "1875/1875 [==============================] - 9s 5ms/step - loss: 0.2305 - accuracy: 0.9141\n",
            "Epoch 13/15\n",
            "1868/1875 [============================>.] - ETA: 0s - loss: 0.2287 - accuracy: 0.9164\n",
            "Epoch 13: loss improved from 0.23047 to 0.22871, saving model to /content/drive/My Drive/Computer_Vision/Assignment_4/best_modelBN_weights.h5\n",
            "1875/1875 [==============================] - 10s 5ms/step - loss: 0.2287 - accuracy: 0.9164\n",
            "Epoch 14/15\n",
            "1875/1875 [==============================] - ETA: 0s - loss: 0.2220 - accuracy: 0.9165\n",
            "Epoch 14: loss improved from 0.22871 to 0.22198, saving model to /content/drive/My Drive/Computer_Vision/Assignment_4/best_modelBN_weights.h5\n",
            "1875/1875 [==============================] - 10s 5ms/step - loss: 0.2220 - accuracy: 0.9165\n",
            "Epoch 15/15\n",
            "1871/1875 [============================>.] - ETA: 0s - loss: 0.2182 - accuracy: 0.9188\n",
            "Epoch 15: loss improved from 0.22198 to 0.21816, saving model to /content/drive/My Drive/Computer_Vision/Assignment_4/best_modelBN_weights.h5\n",
            "1875/1875 [==============================] - 9s 5ms/step - loss: 0.2182 - accuracy: 0.9188\n"
          ]
        }
      ],
      "source": [
        "best_model_norm = tf.keras.Sequential([\n",
        "    tf.keras.layers.InputLayer(input_shape= (28, 28, 1)), \n",
        "    tf.keras.layers.Conv2D(32, kernel_size=(3, 3)),\n",
        "    tf.keras.layers.BatchNormalization(),\n",
        "    tf.keras.layers.Activation('relu'),\n",
        "    tf.keras.layers.MaxPooling2D(pool_size=(2, 2)),\n",
        "    tf.keras.layers.Dropout(0.25),\n",
        "    tf.keras.layers.Conv2D(64, kernel_size=(3, 3)),\n",
        "    tf.keras.layers.BatchNormalization(),\n",
        "    tf.keras.layers.Activation('relu'),\n",
        "    tf.keras.layers.MaxPooling2D(pool_size=(2, 2)),\n",
        "    tf.keras.layers.Dropout(0.25),\n",
        "    tf.keras.layers.Flatten(),\n",
        "    tf.keras.layers.Dense(128),\n",
        "    tf.keras.layers.BatchNormalization(),\n",
        "    tf.keras.layers.Activation('relu'),\n",
        "    tf.keras.layers.Dropout(0.25),\n",
        "    tf.keras.layers.Dense(10, activation='softmax')\n",
        "]) \n",
        "\n",
        "train_model_all(best_model_norm, train_images_all, train_labels_all,'best_modelBN_weights.h5')"
      ]
    },
    {
      "cell_type": "code",
      "execution_count": 16,
      "metadata": {
        "colab": {
          "base_uri": "https://localhost:8080/"
        },
        "id": "UQPDD-lMQJjg",
        "outputId": "12b7ace7-5c74-4afc-c2d1-27f37abf68df"
      },
      "outputs": [
        {
          "output_type": "stream",
          "name": "stdout",
          "text": [
            "313/313 - 1s - loss: 0.2276 - accuracy: 0.9156 - 853ms/epoch - 3ms/step\n",
            "313/313 - 1s - loss: 0.2397 - accuracy: 0.9084 - 1s/epoch - 4ms/step\n"
          ]
        }
      ],
      "source": [
        "test_loss_baseline, test_acc_baseline = best_model.evaluate(test_images,  test_labels, verbose=2)\n",
        "test_loss_norm, test_acc_norm = best_model_norm.evaluate(test_images,  test_labels, verbose=2)"
      ]
    },
    {
      "cell_type": "code",
      "execution_count": 17,
      "metadata": {
        "colab": {
          "base_uri": "https://localhost:8080/"
        },
        "id": "BaRn-3X_ZcEh",
        "outputId": "7872f343-bf9a-41f0-a1ac-75e5b75722e5"
      },
      "outputs": [
        {
          "output_type": "stream",
          "name": "stdout",
          "text": [
            "Test accuracy Kernel: 0.9156000018119812\n",
            "\n",
            "Test accuracy Batch normalization: 0.9083999991416931\n"
          ]
        }
      ],
      "source": [
        "print('Test accuracy Kernel:', test_acc_baseline)\n",
        "print('\\nTest accuracy Batch normalization:', test_acc_norm)"
      ]
    },
    {
      "cell_type": "code",
      "execution_count": 18,
      "metadata": {
        "colab": {
          "base_uri": "https://localhost:8080/"
        },
        "id": "8Mo-n0J00qNm",
        "outputId": "eec38c73-479b-4101-fe5a-28ee2ea7475f"
      },
      "outputs": [
        {
          "output_type": "stream",
          "name": "stdout",
          "text": [
            "\n",
            "Model Kernel Size:\n",
            "313/313 [==============================] - 1s 2ms/step\n",
            "              precision    recall  f1-score   support\n",
            "\n",
            "           0       0.90      0.83      0.86      1000\n",
            "           1       1.00      0.99      0.99      1000\n",
            "           2       0.86      0.88      0.87      1000\n",
            "           3       0.91      0.94      0.92      1000\n",
            "           4       0.87      0.86      0.87      1000\n",
            "           5       0.98      0.98      0.98      1000\n",
            "           6       0.73      0.76      0.74      1000\n",
            "           7       0.96      0.97      0.97      1000\n",
            "           8       0.98      0.99      0.98      1000\n",
            "           9       0.97      0.97      0.97      1000\n",
            "\n",
            "    accuracy                           0.92     10000\n",
            "   macro avg       0.92      0.92      0.92     10000\n",
            "weighted avg       0.92      0.92      0.92     10000\n",
            "\n",
            "\n",
            "Model Batch Normalization:\n",
            "313/313 [==============================] - 1s 2ms/step\n",
            "              precision    recall  f1-score   support\n",
            "\n",
            "           0       0.93      0.77      0.84      1000\n",
            "           1       0.99      0.98      0.99      1000\n",
            "           2       0.91      0.81      0.86      1000\n",
            "           3       0.91      0.93      0.92      1000\n",
            "           4       0.84      0.89      0.86      1000\n",
            "           5       0.99      0.97      0.98      1000\n",
            "           6       0.68      0.83      0.75      1000\n",
            "           7       0.93      0.98      0.96      1000\n",
            "           8       0.99      0.98      0.99      1000\n",
            "           9       0.97      0.95      0.96      1000\n",
            "\n",
            "    accuracy                           0.91     10000\n",
            "   macro avg       0.91      0.91      0.91     10000\n",
            "weighted avg       0.91      0.91      0.91     10000\n",
            "\n"
          ]
        }
      ],
      "source": [
        "print('\\nModel Baseline:')\n",
        "preds_b = best_model.predict(test_images)\n",
        "preds_b = np.argmax(preds_b, axis=1)\n",
        "\n",
        "print(classification_report(test_labels, preds_b))\n",
        "\n",
        "print('\\nModel Batch Normalization:')\n",
        "\n",
        "preds_n = best_model_norm.predict(test_images)\n",
        "preds_n = np.argmax(preds_n, axis=1)\n",
        "\n",
        "print(classification_report(test_labels, preds_n))"
      ]
    },
    {
      "cell_type": "markdown",
      "metadata": {
        "id": "bnjE5a2qOOmU"
      },
      "source": [
        "## Choice Tasks\n"
      ]
    },
    {
      "cell_type": "markdown",
      "metadata": {
        "id": "cYr0Fj6QpRNc"
      },
      "source": [
        "### Choice 2: Learning rate"
      ]
    },
    {
      "cell_type": "code",
      "execution_count": 19,
      "metadata": {
        "id": "R4WE2mRp48z_"
      },
      "outputs": [],
      "source": [
        "# Making use of the best model on the test set: baseline model, implement choice task 2\n",
        "\n",
        "# model baseline\n",
        "best_model_LR = tf.keras.Sequential([\n",
        "    tf.keras.layers.InputLayer(input_shape= (28, 28, 1)), \n",
        "    tf.keras.layers.Conv2D(32, kernel_size=(3, 3), activation='relu'),\n",
        "    tf.keras.layers.MaxPooling2D(pool_size=(2, 2)),\n",
        "    tf.keras.layers.Dropout(0.25),\n",
        "    tf.keras.layers.Conv2D(64, kernel_size=(3, 3), activation='relu'),\n",
        "    tf.keras.layers.MaxPooling2D(pool_size=(2, 2)),\n",
        "    tf.keras.layers.Dropout(0.25),\n",
        "    tf.keras.layers.Flatten(),\n",
        "    tf.keras.layers.Dense(128, activation='relu'),\n",
        "    tf.keras.layers.Dropout(0.25),\n",
        "    tf.keras.layers.Dense(10, activation='softmax')\n",
        "])\n",
        "\n",
        "def step_decay(epoch):\n",
        "    # step_decay takes an initial learning rate value and drops its value\n",
        "    # by 1/2 for every 5 epochs\n",
        "    initial_lr = 0.001\n",
        "    drop = 0.5\n",
        "    epochs_drop = 5\n",
        "    lr = initial_lr * drop**(epoch//epochs_drop)\n",
        "    return lr\n",
        "\n",
        "def train_model_LR2(model, train_images, train_labels, model_name):\n",
        "    # train_model_LR2 takes into account the LR variation with LearningRateScheduler\n",
        "    \n",
        "    # Show how the network is generated\n",
        "    tf.keras.utils.plot_model(model, show_shapes=True, show_layer_activations=True)\n",
        "\n",
        "    # compile the model \n",
        "    model.compile(optimizer='adam',\n",
        "                  loss=tf.keras.losses.SparseCategoricalCrossentropy(from_logits=True),\n",
        "                  metrics=['accuracy'])\n",
        "\n",
        "    model_name = '/content/drive/My Drive/Computer_Vision/Assignment_4/' + model_name\n",
        "\n",
        "    # define a checkpoint to save the best model weights based on validation accuracy\n",
        "    checkpoint = ModelCheckpoint(model_name, monitor='loss', save_best_only=True, mode='min', verbose=1)\n",
        "\n",
        "    # define a learning rate scheduler\n",
        "    lr_scheduler = LearningRateScheduler(step_decay)\n",
        "\n",
        "    history = model.fit(train_images, train_labels, epochs=15, callbacks=[checkpoint, lr_scheduler])"
      ]
    },
    {
      "cell_type": "code",
      "execution_count": 20,
      "metadata": {
        "colab": {
          "base_uri": "https://localhost:8080/"
        },
        "id": "H8gL5qpE6jEA",
        "outputId": "33426e51-7805-4fe6-9148-244301c79833"
      },
      "outputs": [
        {
          "output_type": "stream",
          "name": "stdout",
          "text": [
            "Epoch 1/15\n"
          ]
        },
        {
          "output_type": "stream",
          "name": "stderr",
          "text": [
            "/usr/local/lib/python3.9/dist-packages/keras/backend.py:5585: UserWarning: \"`sparse_categorical_crossentropy` received `from_logits=True`, but the `output` argument was produced by a Softmax activation and thus does not represent logits. Was this intended?\n",
            "  output, from_logits = _get_logits(\n"
          ]
        },
        {
          "output_type": "stream",
          "name": "stdout",
          "text": [
            "1873/1875 [============================>.] - ETA: 0s - loss: 0.5416 - accuracy: 0.8015"
          ]
        },
        {
          "output_type": "stream",
          "name": "stderr",
          "text": [
            "WARNING:tensorflow:Can save best model only with val_accuracy available, skipping.\n"
          ]
        },
        {
          "output_type": "stream",
          "name": "stdout",
          "text": [
            "\b\b\b\b\b\b\b\b\b\b\b\b\b\b\b\b\b\b\b\b\b\b\b\b\b\b\b\b\b\b\b\b\b\b\b\b\b\b\b\b\b\b\b\b\b\b\b\b\b\b\b\b\b\b\b\b\b\b\b\b\b\b\b\b\b\b\b\b\b\b\b\b\b\b\b\b\b\b\b\b\b\b\b\b\b\b\r1875/1875 [==============================] - 8s 4ms/step - loss: 0.5413 - accuracy: 0.8016 - lr: 0.0010\n",
            "Epoch 2/15\n",
            "1867/1875 [============================>.] - ETA: 0s - loss: 0.3677 - accuracy: 0.8658"
          ]
        },
        {
          "output_type": "stream",
          "name": "stderr",
          "text": [
            "WARNING:tensorflow:Can save best model only with val_accuracy available, skipping.\n"
          ]
        },
        {
          "output_type": "stream",
          "name": "stdout",
          "text": [
            "\b\b\b\b\b\b\b\b\b\b\b\b\b\b\b\b\b\b\b\b\b\b\b\b\b\b\b\b\b\b\b\b\b\b\b\b\b\b\b\b\b\b\b\b\b\b\b\b\b\b\b\b\b\b\b\b\b\b\b\b\b\b\b\b\b\b\b\b\b\b\b\b\b\b\b\b\b\b\b\b\b\b\b\b\b\b\r1875/1875 [==============================] - 8s 4ms/step - loss: 0.3676 - accuracy: 0.8658 - lr: 0.0010\n",
            "Epoch 3/15\n",
            "1873/1875 [============================>.] - ETA: 0s - loss: 0.3224 - accuracy: 0.8820"
          ]
        },
        {
          "output_type": "stream",
          "name": "stderr",
          "text": [
            "WARNING:tensorflow:Can save best model only with val_accuracy available, skipping.\n"
          ]
        },
        {
          "output_type": "stream",
          "name": "stdout",
          "text": [
            "\b\b\b\b\b\b\b\b\b\b\b\b\b\b\b\b\b\b\b\b\b\b\b\b\b\b\b\b\b\b\b\b\b\b\b\b\b\b\b\b\b\b\b\b\b\b\b\b\b\b\b\b\b\b\b\b\b\b\b\b\b\b\b\b\b\b\b\b\b\b\b\b\b\b\b\b\b\b\b\b\b\b\b\b\b\b\r1875/1875 [==============================] - 8s 4ms/step - loss: 0.3225 - accuracy: 0.8820 - lr: 0.0010\n",
            "Epoch 4/15\n",
            "1862/1875 [============================>.] - ETA: 0s - loss: 0.2993 - accuracy: 0.8889"
          ]
        },
        {
          "output_type": "stream",
          "name": "stderr",
          "text": [
            "WARNING:tensorflow:Can save best model only with val_accuracy available, skipping.\n"
          ]
        },
        {
          "output_type": "stream",
          "name": "stdout",
          "text": [
            "\b\b\b\b\b\b\b\b\b\b\b\b\b\b\b\b\b\b\b\b\b\b\b\b\b\b\b\b\b\b\b\b\b\b\b\b\b\b\b\b\b\b\b\b\b\b\b\b\b\b\b\b\b\b\b\b\b\b\b\b\b\b\b\b\b\b\b\b\b\b\b\b\b\b\b\b\b\b\b\b\b\b\b\b\b\b\r1875/1875 [==============================] - 7s 4ms/step - loss: 0.2994 - accuracy: 0.8888 - lr: 0.0010\n",
            "Epoch 5/15\n",
            "1862/1875 [============================>.] - ETA: 0s - loss: 0.2815 - accuracy: 0.8952"
          ]
        },
        {
          "output_type": "stream",
          "name": "stderr",
          "text": [
            "WARNING:tensorflow:Can save best model only with val_accuracy available, skipping.\n"
          ]
        },
        {
          "output_type": "stream",
          "name": "stdout",
          "text": [
            "\b\b\b\b\b\b\b\b\b\b\b\b\b\b\b\b\b\b\b\b\b\b\b\b\b\b\b\b\b\b\b\b\b\b\b\b\b\b\b\b\b\b\b\b\b\b\b\b\b\b\b\b\b\b\b\b\b\b\b\b\b\b\b\b\b\b\b\b\b\b\b\b\b\b\b\b\b\b\b\b\b\b\b\b\b\b\r1875/1875 [==============================] - 8s 4ms/step - loss: 0.2811 - accuracy: 0.8952 - lr: 0.0010\n",
            "Epoch 6/15\n",
            "1874/1875 [============================>.] - ETA: 0s - loss: 0.2530 - accuracy: 0.9071"
          ]
        },
        {
          "output_type": "stream",
          "name": "stderr",
          "text": [
            "WARNING:tensorflow:Can save best model only with val_accuracy available, skipping.\n"
          ]
        },
        {
          "output_type": "stream",
          "name": "stdout",
          "text": [
            "\b\b\b\b\b\b\b\b\b\b\b\b\b\b\b\b\b\b\b\b\b\b\b\b\b\b\b\b\b\b\b\b\b\b\b\b\b\b\b\b\b\b\b\b\b\b\b\b\b\b\b\b\b\b\b\b\b\b\b\b\b\b\b\b\b\b\b\b\b\b\b\b\b\b\b\b\b\b\b\b\b\b\b\b\b\b\r1875/1875 [==============================] - 7s 4ms/step - loss: 0.2530 - accuracy: 0.9071 - lr: 5.0000e-04\n",
            "Epoch 7/15\n",
            "1866/1875 [============================>.] - ETA: 0s - loss: 0.2424 - accuracy: 0.9099"
          ]
        },
        {
          "output_type": "stream",
          "name": "stderr",
          "text": [
            "WARNING:tensorflow:Can save best model only with val_accuracy available, skipping.\n"
          ]
        },
        {
          "output_type": "stream",
          "name": "stdout",
          "text": [
            "\b\b\b\b\b\b\b\b\b\b\b\b\b\b\b\b\b\b\b\b\b\b\b\b\b\b\b\b\b\b\b\b\b\b\b\b\b\b\b\b\b\b\b\b\b\b\b\b\b\b\b\b\b\b\b\b\b\b\b\b\b\b\b\b\b\b\b\b\b\b\b\b\b\b\b\b\b\b\b\b\b\b\b\b\b\b\r1875/1875 [==============================] - 8s 4ms/step - loss: 0.2422 - accuracy: 0.9100 - lr: 5.0000e-04\n",
            "Epoch 8/15\n",
            "1875/1875 [==============================] - ETA: 0s - loss: 0.2335 - accuracy: 0.9142"
          ]
        },
        {
          "output_type": "stream",
          "name": "stderr",
          "text": [
            "WARNING:tensorflow:Can save best model only with val_accuracy available, skipping.\n"
          ]
        },
        {
          "output_type": "stream",
          "name": "stdout",
          "text": [
            "\b\b\b\b\b\b\b\b\b\b\b\b\b\b\b\b\b\b\b\b\b\b\b\b\b\b\b\b\b\b\b\b\b\b\b\b\b\b\b\b\b\b\b\b\b\b\b\b\b\b\b\b\b\b\b\b\b\b\b\b\b\b\b\b\b\b\b\b\b\b\b\b\b\b\b\b\b\b\b\b\b\b\b\b\b\b\r1875/1875 [==============================] - 7s 4ms/step - loss: 0.2335 - accuracy: 0.9142 - lr: 5.0000e-04\n",
            "Epoch 9/15\n",
            "1868/1875 [============================>.] - ETA: 0s - loss: 0.2287 - accuracy: 0.9141"
          ]
        },
        {
          "output_type": "stream",
          "name": "stderr",
          "text": [
            "WARNING:tensorflow:Can save best model only with val_accuracy available, skipping.\n"
          ]
        },
        {
          "output_type": "stream",
          "name": "stdout",
          "text": [
            "\b\b\b\b\b\b\b\b\b\b\b\b\b\b\b\b\b\b\b\b\b\b\b\b\b\b\b\b\b\b\b\b\b\b\b\b\b\b\b\b\b\b\b\b\b\b\b\b\b\b\b\b\b\b\b\b\b\b\b\b\b\b\b\b\b\b\b\b\b\b\b\b\b\b\b\b\b\b\b\b\b\b\b\b\b\b\r1875/1875 [==============================] - 8s 4ms/step - loss: 0.2287 - accuracy: 0.9141 - lr: 5.0000e-04\n",
            "Epoch 10/15\n",
            "1871/1875 [============================>.] - ETA: 0s - loss: 0.2233 - accuracy: 0.9164"
          ]
        },
        {
          "output_type": "stream",
          "name": "stderr",
          "text": [
            "WARNING:tensorflow:Can save best model only with val_accuracy available, skipping.\n"
          ]
        },
        {
          "output_type": "stream",
          "name": "stdout",
          "text": [
            "\b\b\b\b\b\b\b\b\b\b\b\b\b\b\b\b\b\b\b\b\b\b\b\b\b\b\b\b\b\b\b\b\b\b\b\b\b\b\b\b\b\b\b\b\b\b\b\b\b\b\b\b\b\b\b\b\b\b\b\b\b\b\b\b\b\b\b\b\b\b\b\b\b\b\b\b\b\b\b\b\b\b\b\b\b\b\r1875/1875 [==============================] - 7s 4ms/step - loss: 0.2234 - accuracy: 0.9164 - lr: 5.0000e-04\n",
            "Epoch 11/15\n",
            "1862/1875 [============================>.] - ETA: 0s - loss: 0.2082 - accuracy: 0.9223"
          ]
        },
        {
          "output_type": "stream",
          "name": "stderr",
          "text": [
            "WARNING:tensorflow:Can save best model only with val_accuracy available, skipping.\n"
          ]
        },
        {
          "output_type": "stream",
          "name": "stdout",
          "text": [
            "\b\b\b\b\b\b\b\b\b\b\b\b\b\b\b\b\b\b\b\b\b\b\b\b\b\b\b\b\b\b\b\b\b\b\b\b\b\b\b\b\b\b\b\b\b\b\b\b\b\b\b\b\b\b\b\b\b\b\b\b\b\b\b\b\b\b\b\b\b\b\b\b\b\b\b\b\b\b\b\b\b\b\b\b\b\b\r1875/1875 [==============================] - 8s 4ms/step - loss: 0.2086 - accuracy: 0.9221 - lr: 2.5000e-04\n",
            "Epoch 12/15\n",
            "1869/1875 [============================>.] - ETA: 0s - loss: 0.2029 - accuracy: 0.9234"
          ]
        },
        {
          "output_type": "stream",
          "name": "stderr",
          "text": [
            "WARNING:tensorflow:Can save best model only with val_accuracy available, skipping.\n"
          ]
        },
        {
          "output_type": "stream",
          "name": "stdout",
          "text": [
            "\b\b\b\b\b\b\b\b\b\b\b\b\b\b\b\b\b\b\b\b\b\b\b\b\b\b\b\b\b\b\b\b\b\b\b\b\b\b\b\b\b\b\b\b\b\b\b\b\b\b\b\b\b\b\b\b\b\b\b\b\b\b\b\b\b\b\b\b\b\b\b\b\b\b\b\b\b\b\b\b\b\b\b\b\b\b\r1875/1875 [==============================] - 7s 4ms/step - loss: 0.2030 - accuracy: 0.9234 - lr: 2.5000e-04\n",
            "Epoch 13/15\n",
            "1874/1875 [============================>.] - ETA: 0s - loss: 0.2008 - accuracy: 0.9242"
          ]
        },
        {
          "output_type": "stream",
          "name": "stderr",
          "text": [
            "WARNING:tensorflow:Can save best model only with val_accuracy available, skipping.\n"
          ]
        },
        {
          "output_type": "stream",
          "name": "stdout",
          "text": [
            "\b\b\b\b\b\b\b\b\b\b\b\b\b\b\b\b\b\b\b\b\b\b\b\b\b\b\b\b\b\b\b\b\b\b\b\b\b\b\b\b\b\b\b\b\b\b\b\b\b\b\b\b\b\b\b\b\b\b\b\b\b\b\b\b\b\b\b\b\b\b\b\b\b\b\b\b\b\b\b\b\b\b\b\b\b\b\r1875/1875 [==============================] - 7s 4ms/step - loss: 0.2008 - accuracy: 0.9242 - lr: 2.5000e-04\n",
            "Epoch 14/15\n",
            "1862/1875 [============================>.] - ETA: 0s - loss: 0.1965 - accuracy: 0.9262"
          ]
        },
        {
          "output_type": "stream",
          "name": "stderr",
          "text": [
            "WARNING:tensorflow:Can save best model only with val_accuracy available, skipping.\n"
          ]
        },
        {
          "output_type": "stream",
          "name": "stdout",
          "text": [
            "\b\b\b\b\b\b\b\b\b\b\b\b\b\b\b\b\b\b\b\b\b\b\b\b\b\b\b\b\b\b\b\b\b\b\b\b\b\b\b\b\b\b\b\b\b\b\b\b\b\b\b\b\b\b\b\b\b\b\b\b\b\b\b\b\b\b\b\b\b\b\b\b\b\b\b\b\b\b\b\b\b\b\b\b\b\b\r1875/1875 [==============================] - 8s 4ms/step - loss: 0.1962 - accuracy: 0.9263 - lr: 2.5000e-04\n",
            "Epoch 15/15\n",
            "1867/1875 [============================>.] - ETA: 0s - loss: 0.1947 - accuracy: 0.9262"
          ]
        },
        {
          "output_type": "stream",
          "name": "stderr",
          "text": [
            "WARNING:tensorflow:Can save best model only with val_accuracy available, skipping.\n"
          ]
        },
        {
          "output_type": "stream",
          "name": "stdout",
          "text": [
            "\b\b\b\b\b\b\b\b\b\b\b\b\b\b\b\b\b\b\b\b\b\b\b\b\b\b\b\b\b\b\b\b\b\b\b\b\b\b\b\b\b\b\b\b\b\b\b\b\b\b\b\b\b\b\b\b\b\b\b\b\b\b\b\b\b\b\b\b\b\b\b\b\b\b\b\b\b\b\b\b\b\b\b\b\b\b\r1875/1875 [==============================] - 7s 4ms/step - loss: 0.1947 - accuracy: 0.9262 - lr: 2.5000e-04\n"
          ]
        }
      ],
      "source": [
        "train_model_LR2(best_model_LR, train_images_all, train_labels_all, 'basemodel_LR.h5')"
      ]
    },
    {
      "cell_type": "code",
      "execution_count": 21,
      "metadata": {
        "colab": {
          "base_uri": "https://localhost:8080/"
        },
        "id": "Vjujd6Ay5iP9",
        "outputId": "395c4a13-6d3b-40e5-ff93-9d527622792f"
      },
      "outputs": [
        {
          "output_type": "stream",
          "name": "stdout",
          "text": [
            "313/313 - 1s - loss: 0.2222 - accuracy: 0.9180 - 796ms/epoch - 3ms/step\n"
          ]
        }
      ],
      "source": [
        "test_loss_LR, test_acc_LR= best_model_LR.evaluate(test_images,  test_labels, verbose=2)"
      ]
    },
    {
      "cell_type": "code",
      "execution_count": 22,
      "metadata": {
        "colab": {
          "base_uri": "https://localhost:8080/"
        },
        "id": "PxQwugwJ5iP-",
        "outputId": "b72b2a1f-34cb-46f6-aa8a-c9487b28172a"
      },
      "outputs": [
        {
          "output_type": "stream",
          "name": "stdout",
          "text": [
            "Test accuracy Kernel LR: 0.9179999828338623\n"
          ]
        }
      ],
      "source": [
        "print('Test accuracy Kernel LR:', test_acc_LR)"
      ]
    },
    {
      "cell_type": "code",
      "execution_count": 23,
      "metadata": {
        "colab": {
          "base_uri": "https://localhost:8080/"
        },
        "id": "30jFgRGyagqE",
        "outputId": "db0f0b62-48b3-448d-c05d-bd3bc0393839"
      },
      "outputs": [
        {
          "output_type": "stream",
          "name": "stdout",
          "text": [
            "\n",
            " Best Model Baseline Choice Task 2 (Learning Rate):\n",
            "313/313 [==============================] - 1s 2ms/step\n",
            "              precision    recall  f1-score   support\n",
            "\n",
            "           0       0.89      0.84      0.86      1000\n",
            "           1       1.00      0.98      0.99      1000\n",
            "           2       0.87      0.89      0.88      1000\n",
            "           3       0.92      0.92      0.92      1000\n",
            "           4       0.87      0.88      0.88      1000\n",
            "           5       0.99      0.98      0.98      1000\n",
            "           6       0.75      0.76      0.75      1000\n",
            "           7       0.96      0.97      0.97      1000\n",
            "           8       0.98      0.98      0.98      1000\n",
            "           9       0.97      0.97      0.97      1000\n",
            "\n",
            "    accuracy                           0.92     10000\n",
            "   macro avg       0.92      0.92      0.92     10000\n",
            "weighted avg       0.92      0.92      0.92     10000\n",
            "\n"
          ]
        }
      ],
      "source": [
        "print('\\n Best Model Baseline Choice Task 2 (Learning Rate):')\n",
        "preds_lr = best_model_LR.predict(test_images)\n",
        "preds_lr = np.argmax(preds_lr, axis=1)\n",
        "\n",
        "print(classification_report(test_labels, preds_lr))"
      ]
    },
    {
      "cell_type": "markdown",
      "metadata": {
        "id": "EgpfOAbOpZhK"
      },
      "source": [
        "### Choice 3: k-fold"
      ]
    },
    {
      "cell_type": "code",
      "execution_count": 26,
      "metadata": {
        "id": "zrSplJDjkeJ3"
      },
      "outputs": [],
      "source": [
        "# Make use of k-fold to train the model\n",
        "# model baseline\n",
        "best_model_LR_kfold = tf.keras.Sequential([\n",
        "    tf.keras.layers.InputLayer(input_shape= (28, 28, 1)), \n",
        "    tf.keras.layers.Conv2D(32, kernel_size=(3, 3), activation='relu'),\n",
        "    tf.keras.layers.MaxPooling2D(pool_size=(2, 2)),\n",
        "    tf.keras.layers.Dropout(0.25),\n",
        "    tf.keras.layers.Conv2D(64, kernel_size=(3, 3), activation='relu'),\n",
        "    tf.keras.layers.MaxPooling2D(pool_size=(2, 2)),\n",
        "    tf.keras.layers.Dropout(0.25),\n",
        "    tf.keras.layers.Flatten(),\n",
        "    tf.keras.layers.Dense(128, activation='relu'),\n",
        "    tf.keras.layers.Dropout(0.25),\n",
        "    tf.keras.layers.Dense(10, activation='softmax')\n",
        "])\n",
        "\n",
        "def train_model_LR_kfold(model, images, labels, model_name):\n",
        "    # trains making use of k-fold and also the LR choice task 2\n",
        "    kfold = KFold(n_splits=5, shuffle=True, random_state=1)\n",
        "    fold_no = 1\n",
        "\n",
        "    for train_idx, val_idx in kfold.split(images):\n",
        "        train_images, train_labels = images[train_idx], labels[train_idx]\n",
        "\n",
        "        val_images, val_labels = images[val_idx], labels[val_idx]\n",
        "        \n",
        "        # compile the model \n",
        "        model.compile(optimizer='adam',\n",
        "                      loss=tf.keras.losses.SparseCategoricalCrossentropy(from_logits=True),\n",
        "                      metrics=['accuracy'])\n",
        "\n",
        "        model_name = f'/content/drive/My Drive/Computer_Vision/Assignment_4/{model_name}_fold_{fold_no}'\n",
        "\n",
        "        # define a checkpoint to save the best model weights based on validation accuracy\n",
        "        checkpoint = ModelCheckpoint(model_name, monitor='val_accuracy', save_best_only=True, mode='max', verbose=1)\n",
        "\n",
        "        # define a learning rate scheduler\n",
        "        lr_scheduler = LearningRateScheduler(step_decay)\n",
        "\n",
        "        history = model.fit(train_images, train_labels, epochs=15, callbacks=[checkpoint, lr_scheduler], validation_data=(val_images, val_labels), verbose=2)\n",
        "\n",
        "        fold_no += 1"
      ]
    },
    {
      "cell_type": "markdown",
      "metadata": {
        "id": "bMMtznvns62y"
      },
      "source": [
        "Non-augented data"
      ]
    },
    {
      "cell_type": "code",
      "execution_count": 27,
      "metadata": {
        "colab": {
          "base_uri": "https://localhost:8080/"
        },
        "id": "Zbv4D4IMn2x4",
        "outputId": "d03e9b0b-5a3d-47bb-ba2a-0f2713993b78"
      },
      "outputs": [
        {
          "output_type": "stream",
          "name": "stdout",
          "text": [
            "Epoch 1/15\n"
          ]
        },
        {
          "output_type": "stream",
          "name": "stderr",
          "text": [
            "/usr/local/lib/python3.9/dist-packages/keras/backend.py:5585: UserWarning: \"`sparse_categorical_crossentropy` received `from_logits=True`, but the `output` argument was produced by a Softmax activation and thus does not represent logits. Was this intended?\n",
            "  output, from_logits = _get_logits(\n"
          ]
        },
        {
          "output_type": "stream",
          "name": "stdout",
          "text": [
            "\n",
            "Epoch 1: val_accuracy improved from -inf to 0.84883, saving model to /content/drive/My Drive/Computer_Vision/Assignment_4/basemodel_LR_kfold.h5_fold_1\n"
          ]
        },
        {
          "output_type": "stream",
          "name": "stderr",
          "text": [
            "WARNING:absl:Found untraced functions such as _jit_compiled_convolution_op, _jit_compiled_convolution_op while saving (showing 2 of 2). These functions will not be directly callable after loading.\n"
          ]
        },
        {
          "output_type": "stream",
          "name": "stdout",
          "text": [
            "1500/1500 - 9s - loss: 0.5758 - accuracy: 0.7884 - val_loss: 0.3967 - val_accuracy: 0.8488 - lr: 0.0010 - 9s/epoch - 6ms/step\n",
            "Epoch 2/15\n",
            "\n",
            "Epoch 2: val_accuracy improved from 0.84883 to 0.88308, saving model to /content/drive/My Drive/Computer_Vision/Assignment_4/basemodel_LR_kfold.h5_fold_1\n"
          ]
        },
        {
          "output_type": "stream",
          "name": "stderr",
          "text": [
            "WARNING:absl:Found untraced functions such as _jit_compiled_convolution_op, _jit_compiled_convolution_op while saving (showing 2 of 2). These functions will not be directly callable after loading.\n"
          ]
        },
        {
          "output_type": "stream",
          "name": "stdout",
          "text": [
            "1500/1500 - 8s - loss: 0.3908 - accuracy: 0.8553 - val_loss: 0.3186 - val_accuracy: 0.8831 - lr: 0.0010 - 8s/epoch - 5ms/step\n",
            "Epoch 3/15\n",
            "\n",
            "Epoch 3: val_accuracy improved from 0.88308 to 0.89092, saving model to /content/drive/My Drive/Computer_Vision/Assignment_4/basemodel_LR_kfold.h5_fold_1\n"
          ]
        },
        {
          "output_type": "stream",
          "name": "stderr",
          "text": [
            "WARNING:absl:Found untraced functions such as _jit_compiled_convolution_op, _jit_compiled_convolution_op while saving (showing 2 of 2). These functions will not be directly callable after loading.\n"
          ]
        },
        {
          "output_type": "stream",
          "name": "stdout",
          "text": [
            "1500/1500 - 7s - loss: 0.3430 - accuracy: 0.8749 - val_loss: 0.3007 - val_accuracy: 0.8909 - lr: 0.0010 - 7s/epoch - 5ms/step\n",
            "Epoch 4/15\n",
            "\n",
            "Epoch 4: val_accuracy improved from 0.89092 to 0.89792, saving model to /content/drive/My Drive/Computer_Vision/Assignment_4/basemodel_LR_kfold.h5_fold_1\n"
          ]
        },
        {
          "output_type": "stream",
          "name": "stderr",
          "text": [
            "WARNING:absl:Found untraced functions such as _jit_compiled_convolution_op, _jit_compiled_convolution_op while saving (showing 2 of 2). These functions will not be directly callable after loading.\n"
          ]
        },
        {
          "output_type": "stream",
          "name": "stdout",
          "text": [
            "1500/1500 - 8s - loss: 0.3138 - accuracy: 0.8845 - val_loss: 0.2712 - val_accuracy: 0.8979 - lr: 0.0010 - 8s/epoch - 5ms/step\n",
            "Epoch 5/15\n",
            "\n",
            "Epoch 5: val_accuracy improved from 0.89792 to 0.90292, saving model to /content/drive/My Drive/Computer_Vision/Assignment_4/basemodel_LR_kfold.h5_fold_1\n"
          ]
        },
        {
          "output_type": "stream",
          "name": "stderr",
          "text": [
            "WARNING:absl:Found untraced functions such as _jit_compiled_convolution_op, _jit_compiled_convolution_op while saving (showing 2 of 2). These functions will not be directly callable after loading.\n"
          ]
        },
        {
          "output_type": "stream",
          "name": "stdout",
          "text": [
            "1500/1500 - 7s - loss: 0.2899 - accuracy: 0.8920 - val_loss: 0.2610 - val_accuracy: 0.9029 - lr: 0.0010 - 7s/epoch - 5ms/step\n",
            "Epoch 6/15\n",
            "\n",
            "Epoch 6: val_accuracy improved from 0.90292 to 0.90808, saving model to /content/drive/My Drive/Computer_Vision/Assignment_4/basemodel_LR_kfold.h5_fold_1\n"
          ]
        },
        {
          "output_type": "stream",
          "name": "stderr",
          "text": [
            "WARNING:absl:Found untraced functions such as _jit_compiled_convolution_op, _jit_compiled_convolution_op while saving (showing 2 of 2). These functions will not be directly callable after loading.\n"
          ]
        },
        {
          "output_type": "stream",
          "name": "stdout",
          "text": [
            "1500/1500 - 7s - loss: 0.2602 - accuracy: 0.9037 - val_loss: 0.2451 - val_accuracy: 0.9081 - lr: 5.0000e-04 - 7s/epoch - 5ms/step\n",
            "Epoch 7/15\n",
            "\n",
            "Epoch 7: val_accuracy improved from 0.90808 to 0.90892, saving model to /content/drive/My Drive/Computer_Vision/Assignment_4/basemodel_LR_kfold.h5_fold_1\n"
          ]
        },
        {
          "output_type": "stream",
          "name": "stderr",
          "text": [
            "WARNING:absl:Found untraced functions such as _jit_compiled_convolution_op, _jit_compiled_convolution_op while saving (showing 2 of 2). These functions will not be directly callable after loading.\n"
          ]
        },
        {
          "output_type": "stream",
          "name": "stdout",
          "text": [
            "1500/1500 - 10s - loss: 0.2495 - accuracy: 0.9068 - val_loss: 0.2443 - val_accuracy: 0.9089 - lr: 5.0000e-04 - 10s/epoch - 7ms/step\n",
            "Epoch 8/15\n",
            "\n",
            "Epoch 8: val_accuracy improved from 0.90892 to 0.91200, saving model to /content/drive/My Drive/Computer_Vision/Assignment_4/basemodel_LR_kfold.h5_fold_1\n"
          ]
        },
        {
          "output_type": "stream",
          "name": "stderr",
          "text": [
            "WARNING:absl:Found untraced functions such as _jit_compiled_convolution_op, _jit_compiled_convolution_op while saving (showing 2 of 2). These functions will not be directly callable after loading.\n"
          ]
        },
        {
          "output_type": "stream",
          "name": "stdout",
          "text": [
            "1500/1500 - 7s - loss: 0.2420 - accuracy: 0.9104 - val_loss: 0.2414 - val_accuracy: 0.9120 - lr: 5.0000e-04 - 7s/epoch - 5ms/step\n",
            "Epoch 9/15\n",
            "\n",
            "Epoch 9: val_accuracy did not improve from 0.91200\n",
            "1500/1500 - 7s - loss: 0.2304 - accuracy: 0.9158 - val_loss: 0.2504 - val_accuracy: 0.9068 - lr: 5.0000e-04 - 7s/epoch - 4ms/step\n",
            "Epoch 10/15\n",
            "\n",
            "Epoch 10: val_accuracy improved from 0.91200 to 0.91475, saving model to /content/drive/My Drive/Computer_Vision/Assignment_4/basemodel_LR_kfold.h5_fold_1\n"
          ]
        },
        {
          "output_type": "stream",
          "name": "stderr",
          "text": [
            "WARNING:absl:Found untraced functions such as _jit_compiled_convolution_op, _jit_compiled_convolution_op while saving (showing 2 of 2). These functions will not be directly callable after loading.\n"
          ]
        },
        {
          "output_type": "stream",
          "name": "stdout",
          "text": [
            "1500/1500 - 6s - loss: 0.2273 - accuracy: 0.9140 - val_loss: 0.2311 - val_accuracy: 0.9147 - lr: 5.0000e-04 - 6s/epoch - 4ms/step\n",
            "Epoch 11/15\n",
            "\n",
            "Epoch 11: val_accuracy improved from 0.91475 to 0.91925, saving model to /content/drive/My Drive/Computer_Vision/Assignment_4/basemodel_LR_kfold.h5_fold_1\n"
          ]
        },
        {
          "output_type": "stream",
          "name": "stderr",
          "text": [
            "WARNING:absl:Found untraced functions such as _jit_compiled_convolution_op, _jit_compiled_convolution_op while saving (showing 2 of 2). These functions will not be directly callable after loading.\n"
          ]
        },
        {
          "output_type": "stream",
          "name": "stdout",
          "text": [
            "1500/1500 - 8s - loss: 0.2091 - accuracy: 0.9210 - val_loss: 0.2215 - val_accuracy: 0.9193 - lr: 2.5000e-04 - 8s/epoch - 5ms/step\n",
            "Epoch 12/15\n",
            "\n",
            "Epoch 12: val_accuracy improved from 0.91925 to 0.92042, saving model to /content/drive/My Drive/Computer_Vision/Assignment_4/basemodel_LR_kfold.h5_fold_1\n"
          ]
        },
        {
          "output_type": "stream",
          "name": "stderr",
          "text": [
            "WARNING:absl:Found untraced functions such as _jit_compiled_convolution_op, _jit_compiled_convolution_op while saving (showing 2 of 2). These functions will not be directly callable after loading.\n"
          ]
        },
        {
          "output_type": "stream",
          "name": "stdout",
          "text": [
            "1500/1500 - 6s - loss: 0.2061 - accuracy: 0.9228 - val_loss: 0.2176 - val_accuracy: 0.9204 - lr: 2.5000e-04 - 6s/epoch - 4ms/step\n",
            "Epoch 13/15\n",
            "\n",
            "Epoch 13: val_accuracy improved from 0.92042 to 0.92058, saving model to /content/drive/My Drive/Computer_Vision/Assignment_4/basemodel_LR_kfold.h5_fold_1\n"
          ]
        },
        {
          "output_type": "stream",
          "name": "stderr",
          "text": [
            "WARNING:absl:Found untraced functions such as _jit_compiled_convolution_op, _jit_compiled_convolution_op while saving (showing 2 of 2). These functions will not be directly callable after loading.\n"
          ]
        },
        {
          "output_type": "stream",
          "name": "stdout",
          "text": [
            "1500/1500 - 7s - loss: 0.2027 - accuracy: 0.9243 - val_loss: 0.2182 - val_accuracy: 0.9206 - lr: 2.5000e-04 - 7s/epoch - 5ms/step\n",
            "Epoch 14/15\n",
            "\n",
            "Epoch 14: val_accuracy did not improve from 0.92058\n",
            "1500/1500 - 6s - loss: 0.1980 - accuracy: 0.9267 - val_loss: 0.2156 - val_accuracy: 0.9186 - lr: 2.5000e-04 - 6s/epoch - 4ms/step\n",
            "Epoch 15/15\n",
            "\n",
            "Epoch 15: val_accuracy improved from 0.92058 to 0.92208, saving model to /content/drive/My Drive/Computer_Vision/Assignment_4/basemodel_LR_kfold.h5_fold_1\n"
          ]
        },
        {
          "output_type": "stream",
          "name": "stderr",
          "text": [
            "WARNING:absl:Found untraced functions such as _jit_compiled_convolution_op, _jit_compiled_convolution_op while saving (showing 2 of 2). These functions will not be directly callable after loading.\n"
          ]
        },
        {
          "output_type": "stream",
          "name": "stdout",
          "text": [
            "1500/1500 - 8s - loss: 0.1946 - accuracy: 0.9265 - val_loss: 0.2161 - val_accuracy: 0.9221 - lr: 2.5000e-04 - 8s/epoch - 5ms/step\n",
            "Epoch 1/15\n"
          ]
        },
        {
          "output_type": "stream",
          "name": "stderr",
          "text": [
            "/usr/local/lib/python3.9/dist-packages/keras/backend.py:5585: UserWarning: \"`sparse_categorical_crossentropy` received `from_logits=True`, but the `output` argument was produced by a Softmax activation and thus does not represent logits. Was this intended?\n",
            "  output, from_logits = _get_logits(\n"
          ]
        },
        {
          "output_type": "stream",
          "name": "stdout",
          "text": [
            "\n",
            "Epoch 1: val_accuracy improved from -inf to 0.93342, saving model to /content/drive/My Drive/Computer_Vision/Assignment_4//content/drive/My Drive/Computer_Vision/Assignment_4/basemodel_LR_kfold.h5_fold_1_fold_2\n"
          ]
        },
        {
          "output_type": "stream",
          "name": "stderr",
          "text": [
            "WARNING:absl:Found untraced functions such as _jit_compiled_convolution_op, _jit_compiled_convolution_op while saving (showing 2 of 2). These functions will not be directly callable after loading.\n"
          ]
        },
        {
          "output_type": "stream",
          "name": "stdout",
          "text": [
            "1500/1500 - 9s - loss: 0.2451 - accuracy: 0.9099 - val_loss: 0.1809 - val_accuracy: 0.9334 - lr: 0.0010 - 9s/epoch - 6ms/step\n",
            "Epoch 2/15\n",
            "\n",
            "Epoch 2: val_accuracy improved from 0.93342 to 0.93408, saving model to /content/drive/My Drive/Computer_Vision/Assignment_4//content/drive/My Drive/Computer_Vision/Assignment_4/basemodel_LR_kfold.h5_fold_1_fold_2\n"
          ]
        },
        {
          "output_type": "stream",
          "name": "stderr",
          "text": [
            "WARNING:absl:Found untraced functions such as _jit_compiled_convolution_op, _jit_compiled_convolution_op while saving (showing 2 of 2). These functions will not be directly callable after loading.\n"
          ]
        },
        {
          "output_type": "stream",
          "name": "stdout",
          "text": [
            "1500/1500 - 6s - loss: 0.2356 - accuracy: 0.9122 - val_loss: 0.1779 - val_accuracy: 0.9341 - lr: 0.0010 - 6s/epoch - 4ms/step\n",
            "Epoch 3/15\n",
            "\n",
            "Epoch 3: val_accuracy did not improve from 0.93408\n",
            "1500/1500 - 6s - loss: 0.2300 - accuracy: 0.9141 - val_loss: 0.1900 - val_accuracy: 0.9312 - lr: 0.0010 - 6s/epoch - 4ms/step\n",
            "Epoch 4/15\n",
            "\n",
            "Epoch 4: val_accuracy did not improve from 0.93408\n",
            "1500/1500 - 5s - loss: 0.2243 - accuracy: 0.9163 - val_loss: 0.1924 - val_accuracy: 0.9270 - lr: 0.0010 - 5s/epoch - 4ms/step\n",
            "Epoch 5/15\n",
            "\n",
            "Epoch 5: val_accuracy did not improve from 0.93408\n",
            "1500/1500 - 5s - loss: 0.2177 - accuracy: 0.9188 - val_loss: 0.1975 - val_accuracy: 0.9240 - lr: 0.0010 - 5s/epoch - 4ms/step\n",
            "Epoch 6/15\n",
            "\n",
            "Epoch 6: val_accuracy did not improve from 0.93408\n",
            "1500/1500 - 7s - loss: 0.1941 - accuracy: 0.9260 - val_loss: 0.1845 - val_accuracy: 0.9294 - lr: 5.0000e-04 - 7s/epoch - 4ms/step\n",
            "Epoch 7/15\n",
            "\n",
            "Epoch 7: val_accuracy did not improve from 0.93408\n",
            "1500/1500 - 5s - loss: 0.1872 - accuracy: 0.9293 - val_loss: 0.1770 - val_accuracy: 0.9331 - lr: 5.0000e-04 - 5s/epoch - 3ms/step\n",
            "Epoch 8/15\n",
            "\n",
            "Epoch 8: val_accuracy did not improve from 0.93408\n",
            "1500/1500 - 7s - loss: 0.1843 - accuracy: 0.9302 - val_loss: 0.1757 - val_accuracy: 0.9340 - lr: 5.0000e-04 - 7s/epoch - 4ms/step\n",
            "Epoch 9/15\n",
            "\n",
            "Epoch 9: val_accuracy improved from 0.93408 to 0.93517, saving model to /content/drive/My Drive/Computer_Vision/Assignment_4//content/drive/My Drive/Computer_Vision/Assignment_4/basemodel_LR_kfold.h5_fold_1_fold_2\n"
          ]
        },
        {
          "output_type": "stream",
          "name": "stderr",
          "text": [
            "WARNING:absl:Found untraced functions such as _jit_compiled_convolution_op, _jit_compiled_convolution_op while saving (showing 2 of 2). These functions will not be directly callable after loading.\n"
          ]
        },
        {
          "output_type": "stream",
          "name": "stdout",
          "text": [
            "1500/1500 - 8s - loss: 0.1766 - accuracy: 0.9330 - val_loss: 0.1735 - val_accuracy: 0.9352 - lr: 5.0000e-04 - 8s/epoch - 5ms/step\n",
            "Epoch 10/15\n",
            "\n",
            "Epoch 10: val_accuracy did not improve from 0.93517\n",
            "1500/1500 - 6s - loss: 0.1784 - accuracy: 0.9324 - val_loss: 0.1769 - val_accuracy: 0.9348 - lr: 5.0000e-04 - 6s/epoch - 4ms/step\n",
            "Epoch 11/15\n",
            "\n",
            "Epoch 11: val_accuracy improved from 0.93517 to 0.93792, saving model to /content/drive/My Drive/Computer_Vision/Assignment_4//content/drive/My Drive/Computer_Vision/Assignment_4/basemodel_LR_kfold.h5_fold_1_fold_2\n"
          ]
        },
        {
          "output_type": "stream",
          "name": "stderr",
          "text": [
            "WARNING:absl:Found untraced functions such as _jit_compiled_convolution_op, _jit_compiled_convolution_op while saving (showing 2 of 2). These functions will not be directly callable after loading.\n"
          ]
        },
        {
          "output_type": "stream",
          "name": "stdout",
          "text": [
            "1500/1500 - 7s - loss: 0.1630 - accuracy: 0.9382 - val_loss: 0.1683 - val_accuracy: 0.9379 - lr: 2.5000e-04 - 7s/epoch - 5ms/step\n",
            "Epoch 12/15\n",
            "\n",
            "Epoch 12: val_accuracy improved from 0.93792 to 0.93808, saving model to /content/drive/My Drive/Computer_Vision/Assignment_4//content/drive/My Drive/Computer_Vision/Assignment_4/basemodel_LR_kfold.h5_fold_1_fold_2\n"
          ]
        },
        {
          "output_type": "stream",
          "name": "stderr",
          "text": [
            "WARNING:absl:Found untraced functions such as _jit_compiled_convolution_op, _jit_compiled_convolution_op while saving (showing 2 of 2). These functions will not be directly callable after loading.\n"
          ]
        },
        {
          "output_type": "stream",
          "name": "stdout",
          "text": [
            "1500/1500 - 8s - loss: 0.1579 - accuracy: 0.9406 - val_loss: 0.1670 - val_accuracy: 0.9381 - lr: 2.5000e-04 - 8s/epoch - 5ms/step\n",
            "Epoch 13/15\n",
            "\n",
            "Epoch 13: val_accuracy did not improve from 0.93808\n",
            "1500/1500 - 5s - loss: 0.1574 - accuracy: 0.9398 - val_loss: 0.1669 - val_accuracy: 0.9370 - lr: 2.5000e-04 - 5s/epoch - 3ms/step\n",
            "Epoch 14/15\n",
            "\n",
            "Epoch 14: val_accuracy improved from 0.93808 to 0.93825, saving model to /content/drive/My Drive/Computer_Vision/Assignment_4//content/drive/My Drive/Computer_Vision/Assignment_4/basemodel_LR_kfold.h5_fold_1_fold_2\n"
          ]
        },
        {
          "output_type": "stream",
          "name": "stderr",
          "text": [
            "WARNING:absl:Found untraced functions such as _jit_compiled_convolution_op, _jit_compiled_convolution_op while saving (showing 2 of 2). These functions will not be directly callable after loading.\n"
          ]
        },
        {
          "output_type": "stream",
          "name": "stdout",
          "text": [
            "1500/1500 - 8s - loss: 0.1565 - accuracy: 0.9406 - val_loss: 0.1669 - val_accuracy: 0.9383 - lr: 2.5000e-04 - 8s/epoch - 5ms/step\n",
            "Epoch 15/15\n",
            "\n",
            "Epoch 15: val_accuracy did not improve from 0.93825\n",
            "1500/1500 - 5s - loss: 0.1537 - accuracy: 0.9407 - val_loss: 0.1806 - val_accuracy: 0.9312 - lr: 2.5000e-04 - 5s/epoch - 3ms/step\n",
            "Epoch 1/15\n"
          ]
        },
        {
          "output_type": "stream",
          "name": "stderr",
          "text": [
            "/usr/local/lib/python3.9/dist-packages/keras/backend.py:5585: UserWarning: \"`sparse_categorical_crossentropy` received `from_logits=True`, but the `output` argument was produced by a Softmax activation and thus does not represent logits. Was this intended?\n",
            "  output, from_logits = _get_logits(\n"
          ]
        },
        {
          "output_type": "stream",
          "name": "stdout",
          "text": [
            "\n",
            "Epoch 1: val_accuracy improved from -inf to 0.95383, saving model to /content/drive/My Drive/Computer_Vision/Assignment_4//content/drive/My Drive/Computer_Vision/Assignment_4//content/drive/My Drive/Computer_Vision/Assignment_4/basemodel_LR_kfold.h5_fold_1_fold_2_fold_3\n"
          ]
        },
        {
          "output_type": "stream",
          "name": "stderr",
          "text": [
            "WARNING:absl:Found untraced functions such as _jit_compiled_convolution_op, _jit_compiled_convolution_op while saving (showing 2 of 2). These functions will not be directly callable after loading.\n"
          ]
        },
        {
          "output_type": "stream",
          "name": "stdout",
          "text": [
            "1500/1500 - 9s - loss: 0.2083 - accuracy: 0.9227 - val_loss: 0.1260 - val_accuracy: 0.9538 - lr: 0.0010 - 9s/epoch - 6ms/step\n",
            "Epoch 2/15\n",
            "\n",
            "Epoch 2: val_accuracy did not improve from 0.95383\n",
            "1500/1500 - 5s - loss: 0.2028 - accuracy: 0.9244 - val_loss: 0.1332 - val_accuracy: 0.9500 - lr: 0.0010 - 5s/epoch - 3ms/step\n",
            "Epoch 3/15\n",
            "\n",
            "Epoch 3: val_accuracy did not improve from 0.95383\n",
            "1500/1500 - 6s - loss: 0.2003 - accuracy: 0.9242 - val_loss: 0.1394 - val_accuracy: 0.9498 - lr: 0.0010 - 6s/epoch - 4ms/step\n",
            "Epoch 4/15\n",
            "\n",
            "Epoch 4: val_accuracy did not improve from 0.95383\n",
            "1500/1500 - 6s - loss: 0.1948 - accuracy: 0.9259 - val_loss: 0.1448 - val_accuracy: 0.9466 - lr: 0.0010 - 6s/epoch - 4ms/step\n",
            "Epoch 5/15\n",
            "\n",
            "Epoch 5: val_accuracy did not improve from 0.95383\n",
            "1500/1500 - 7s - loss: 0.1952 - accuracy: 0.9260 - val_loss: 0.1513 - val_accuracy: 0.9430 - lr: 0.0010 - 7s/epoch - 5ms/step\n",
            "Epoch 6/15\n",
            "\n",
            "Epoch 6: val_accuracy did not improve from 0.95383\n",
            "1500/1500 - 6s - loss: 0.1693 - accuracy: 0.9355 - val_loss: 0.1262 - val_accuracy: 0.9531 - lr: 5.0000e-04 - 6s/epoch - 4ms/step\n",
            "Epoch 7/15\n",
            "\n",
            "Epoch 7: val_accuracy did not improve from 0.95383\n",
            "1500/1500 - 7s - loss: 0.1641 - accuracy: 0.9381 - val_loss: 0.1288 - val_accuracy: 0.9512 - lr: 5.0000e-04 - 7s/epoch - 4ms/step\n",
            "Epoch 8/15\n",
            "\n",
            "Epoch 8: val_accuracy did not improve from 0.95383\n",
            "1500/1500 - 6s - loss: 0.1602 - accuracy: 0.9401 - val_loss: 0.1394 - val_accuracy: 0.9464 - lr: 5.0000e-04 - 6s/epoch - 4ms/step\n",
            "Epoch 9/15\n",
            "\n",
            "Epoch 9: val_accuracy did not improve from 0.95383\n",
            "1500/1500 - 6s - loss: 0.1560 - accuracy: 0.9395 - val_loss: 0.1328 - val_accuracy: 0.9506 - lr: 5.0000e-04 - 6s/epoch - 4ms/step\n",
            "Epoch 10/15\n",
            "\n",
            "Epoch 10: val_accuracy did not improve from 0.95383\n",
            "1500/1500 - 6s - loss: 0.1539 - accuracy: 0.9405 - val_loss: 0.1350 - val_accuracy: 0.9502 - lr: 5.0000e-04 - 6s/epoch - 4ms/step\n",
            "Epoch 11/15\n",
            "\n",
            "Epoch 11: val_accuracy did not improve from 0.95383\n",
            "1500/1500 - 6s - loss: 0.1406 - accuracy: 0.9453 - val_loss: 0.1226 - val_accuracy: 0.9533 - lr: 2.5000e-04 - 6s/epoch - 4ms/step\n",
            "Epoch 12/15\n",
            "\n",
            "Epoch 12: val_accuracy improved from 0.95383 to 0.95417, saving model to /content/drive/My Drive/Computer_Vision/Assignment_4//content/drive/My Drive/Computer_Vision/Assignment_4//content/drive/My Drive/Computer_Vision/Assignment_4/basemodel_LR_kfold.h5_fold_1_fold_2_fold_3\n"
          ]
        },
        {
          "output_type": "stream",
          "name": "stderr",
          "text": [
            "WARNING:absl:Found untraced functions such as _jit_compiled_convolution_op, _jit_compiled_convolution_op while saving (showing 2 of 2). These functions will not be directly callable after loading.\n"
          ]
        },
        {
          "output_type": "stream",
          "name": "stdout",
          "text": [
            "1500/1500 - 7s - loss: 0.1398 - accuracy: 0.9459 - val_loss: 0.1219 - val_accuracy: 0.9542 - lr: 2.5000e-04 - 7s/epoch - 5ms/step\n",
            "Epoch 13/15\n",
            "\n",
            "Epoch 13: val_accuracy did not improve from 0.95417\n",
            "1500/1500 - 6s - loss: 0.1372 - accuracy: 0.9474 - val_loss: 0.1232 - val_accuracy: 0.9528 - lr: 2.5000e-04 - 6s/epoch - 4ms/step\n",
            "Epoch 14/15\n",
            "\n",
            "Epoch 14: val_accuracy improved from 0.95417 to 0.95592, saving model to /content/drive/My Drive/Computer_Vision/Assignment_4//content/drive/My Drive/Computer_Vision/Assignment_4//content/drive/My Drive/Computer_Vision/Assignment_4/basemodel_LR_kfold.h5_fold_1_fold_2_fold_3\n"
          ]
        },
        {
          "output_type": "stream",
          "name": "stderr",
          "text": [
            "WARNING:absl:Found untraced functions such as _jit_compiled_convolution_op, _jit_compiled_convolution_op while saving (showing 2 of 2). These functions will not be directly callable after loading.\n"
          ]
        },
        {
          "output_type": "stream",
          "name": "stdout",
          "text": [
            "1500/1500 - 8s - loss: 0.1375 - accuracy: 0.9470 - val_loss: 0.1200 - val_accuracy: 0.9559 - lr: 2.5000e-04 - 8s/epoch - 5ms/step\n",
            "Epoch 15/15\n",
            "\n",
            "Epoch 15: val_accuracy did not improve from 0.95592\n",
            "1500/1500 - 6s - loss: 0.1363 - accuracy: 0.9478 - val_loss: 0.1221 - val_accuracy: 0.9528 - lr: 2.5000e-04 - 6s/epoch - 4ms/step\n",
            "Epoch 1/15\n"
          ]
        },
        {
          "output_type": "stream",
          "name": "stderr",
          "text": [
            "/usr/local/lib/python3.9/dist-packages/keras/backend.py:5585: UserWarning: \"`sparse_categorical_crossentropy` received `from_logits=True`, but the `output` argument was produced by a Softmax activation and thus does not represent logits. Was this intended?\n",
            "  output, from_logits = _get_logits(\n"
          ]
        },
        {
          "output_type": "stream",
          "name": "stdout",
          "text": [
            "\n",
            "Epoch 1: val_accuracy improved from -inf to 0.96517, saving model to /content/drive/My Drive/Computer_Vision/Assignment_4//content/drive/My Drive/Computer_Vision/Assignment_4//content/drive/My Drive/Computer_Vision/Assignment_4//content/drive/My Drive/Computer_Vision/Assignment_4/basemodel_LR_kfold.h5_fold_1_fold_2_fold_3_fold_4\n"
          ]
        },
        {
          "output_type": "stream",
          "name": "stderr",
          "text": [
            "WARNING:absl:Found untraced functions such as _jit_compiled_convolution_op, _jit_compiled_convolution_op while saving (showing 2 of 2). These functions will not be directly callable after loading.\n"
          ]
        },
        {
          "output_type": "stream",
          "name": "stdout",
          "text": [
            "1500/1500 - 10s - loss: 0.1854 - accuracy: 0.9309 - val_loss: 0.0966 - val_accuracy: 0.9652 - lr: 0.0010 - 10s/epoch - 6ms/step\n",
            "Epoch 2/15\n",
            "\n",
            "Epoch 2: val_accuracy did not improve from 0.96517\n",
            "1500/1500 - 6s - loss: 0.1797 - accuracy: 0.9318 - val_loss: 0.1229 - val_accuracy: 0.9545 - lr: 0.0010 - 6s/epoch - 4ms/step\n",
            "Epoch 3/15\n",
            "\n",
            "Epoch 3: val_accuracy did not improve from 0.96517\n",
            "1500/1500 - 6s - loss: 0.1806 - accuracy: 0.9321 - val_loss: 0.1152 - val_accuracy: 0.9619 - lr: 0.0010 - 6s/epoch - 4ms/step\n",
            "Epoch 4/15\n",
            "\n",
            "Epoch 4: val_accuracy did not improve from 0.96517\n",
            "1500/1500 - 6s - loss: 0.1745 - accuracy: 0.9327 - val_loss: 0.1191 - val_accuracy: 0.9562 - lr: 0.0010 - 6s/epoch - 4ms/step\n",
            "Epoch 5/15\n",
            "\n",
            "Epoch 5: val_accuracy did not improve from 0.96517\n",
            "1500/1500 - 6s - loss: 0.1767 - accuracy: 0.9330 - val_loss: 0.1176 - val_accuracy: 0.9563 - lr: 0.0010 - 6s/epoch - 4ms/step\n",
            "Epoch 6/15\n",
            "\n",
            "Epoch 6: val_accuracy did not improve from 0.96517\n",
            "1500/1500 - 6s - loss: 0.1523 - accuracy: 0.9424 - val_loss: 0.1076 - val_accuracy: 0.9606 - lr: 5.0000e-04 - 6s/epoch - 4ms/step\n",
            "Epoch 7/15\n",
            "\n",
            "Epoch 7: val_accuracy did not improve from 0.96517\n",
            "1500/1500 - 6s - loss: 0.1481 - accuracy: 0.9436 - val_loss: 0.1094 - val_accuracy: 0.9598 - lr: 5.0000e-04 - 6s/epoch - 4ms/step\n",
            "Epoch 8/15\n",
            "\n",
            "Epoch 8: val_accuracy did not improve from 0.96517\n",
            "1500/1500 - 6s - loss: 0.1454 - accuracy: 0.9456 - val_loss: 0.1081 - val_accuracy: 0.9606 - lr: 5.0000e-04 - 6s/epoch - 4ms/step\n",
            "Epoch 9/15\n",
            "\n",
            "Epoch 9: val_accuracy did not improve from 0.96517\n",
            "1500/1500 - 6s - loss: 0.1438 - accuracy: 0.9456 - val_loss: 0.1142 - val_accuracy: 0.9557 - lr: 5.0000e-04 - 6s/epoch - 4ms/step\n",
            "Epoch 10/15\n",
            "\n",
            "Epoch 10: val_accuracy did not improve from 0.96517\n",
            "1500/1500 - 5s - loss: 0.1431 - accuracy: 0.9453 - val_loss: 0.1079 - val_accuracy: 0.9603 - lr: 5.0000e-04 - 5s/epoch - 4ms/step\n",
            "Epoch 11/15\n",
            "\n",
            "Epoch 11: val_accuracy did not improve from 0.96517\n",
            "1500/1500 - 6s - loss: 0.1310 - accuracy: 0.9490 - val_loss: 0.1034 - val_accuracy: 0.9617 - lr: 2.5000e-04 - 6s/epoch - 4ms/step\n",
            "Epoch 12/15\n",
            "\n",
            "Epoch 12: val_accuracy did not improve from 0.96517\n",
            "1500/1500 - 6s - loss: 0.1268 - accuracy: 0.9512 - val_loss: 0.1047 - val_accuracy: 0.9617 - lr: 2.5000e-04 - 6s/epoch - 4ms/step\n",
            "Epoch 13/15\n",
            "\n",
            "Epoch 13: val_accuracy did not improve from 0.96517\n",
            "1500/1500 - 6s - loss: 0.1251 - accuracy: 0.9521 - val_loss: 0.1025 - val_accuracy: 0.9617 - lr: 2.5000e-04 - 6s/epoch - 4ms/step\n",
            "Epoch 14/15\n",
            "\n",
            "Epoch 14: val_accuracy did not improve from 0.96517\n",
            "1500/1500 - 6s - loss: 0.1255 - accuracy: 0.9525 - val_loss: 0.1033 - val_accuracy: 0.9620 - lr: 2.5000e-04 - 6s/epoch - 4ms/step\n",
            "Epoch 15/15\n",
            "\n",
            "Epoch 15: val_accuracy did not improve from 0.96517\n",
            "1500/1500 - 5s - loss: 0.1241 - accuracy: 0.9528 - val_loss: 0.1049 - val_accuracy: 0.9607 - lr: 2.5000e-04 - 5s/epoch - 4ms/step\n",
            "Epoch 1/15\n"
          ]
        },
        {
          "output_type": "stream",
          "name": "stderr",
          "text": [
            "/usr/local/lib/python3.9/dist-packages/keras/backend.py:5585: UserWarning: \"`sparse_categorical_crossentropy` received `from_logits=True`, but the `output` argument was produced by a Softmax activation and thus does not represent logits. Was this intended?\n",
            "  output, from_logits = _get_logits(\n"
          ]
        },
        {
          "output_type": "stream",
          "name": "stdout",
          "text": [
            "\n",
            "Epoch 1: val_accuracy improved from -inf to 0.96700, saving model to /content/drive/My Drive/Computer_Vision/Assignment_4//content/drive/My Drive/Computer_Vision/Assignment_4//content/drive/My Drive/Computer_Vision/Assignment_4//content/drive/My Drive/Computer_Vision/Assignment_4//content/drive/My Drive/Computer_Vision/Assignment_4/basemodel_LR_kfold.h5_fold_1_fold_2_fold_3_fold_4_fold_5\n"
          ]
        },
        {
          "output_type": "stream",
          "name": "stderr",
          "text": [
            "WARNING:absl:Found untraced functions such as _jit_compiled_convolution_op, _jit_compiled_convolution_op while saving (showing 2 of 2). These functions will not be directly callable after loading.\n"
          ]
        },
        {
          "output_type": "stream",
          "name": "stdout",
          "text": [
            "1500/1500 - 9s - loss: 0.1706 - accuracy: 0.9365 - val_loss: 0.0885 - val_accuracy: 0.9670 - lr: 0.0010 - 9s/epoch - 6ms/step\n",
            "Epoch 2/15\n",
            "\n",
            "Epoch 2: val_accuracy improved from 0.96700 to 0.97033, saving model to /content/drive/My Drive/Computer_Vision/Assignment_4//content/drive/My Drive/Computer_Vision/Assignment_4//content/drive/My Drive/Computer_Vision/Assignment_4//content/drive/My Drive/Computer_Vision/Assignment_4//content/drive/My Drive/Computer_Vision/Assignment_4/basemodel_LR_kfold.h5_fold_1_fold_2_fold_3_fold_4_fold_5\n"
          ]
        },
        {
          "output_type": "stream",
          "name": "stderr",
          "text": [
            "WARNING:absl:Found untraced functions such as _jit_compiled_convolution_op, _jit_compiled_convolution_op while saving (showing 2 of 2). These functions will not be directly callable after loading.\n"
          ]
        },
        {
          "output_type": "stream",
          "name": "stdout",
          "text": [
            "1500/1500 - 7s - loss: 0.1746 - accuracy: 0.9327 - val_loss: 0.0857 - val_accuracy: 0.9703 - lr: 0.0010 - 7s/epoch - 5ms/step\n",
            "Epoch 3/15\n",
            "\n",
            "Epoch 3: val_accuracy did not improve from 0.97033\n",
            "1500/1500 - 6s - loss: 0.1711 - accuracy: 0.9349 - val_loss: 0.0959 - val_accuracy: 0.9679 - lr: 0.0010 - 6s/epoch - 4ms/step\n",
            "Epoch 4/15\n",
            "\n",
            "Epoch 4: val_accuracy did not improve from 0.97033\n",
            "1500/1500 - 6s - loss: 0.1655 - accuracy: 0.9381 - val_loss: 0.0895 - val_accuracy: 0.9674 - lr: 0.0010 - 6s/epoch - 4ms/step\n",
            "Epoch 5/15\n",
            "\n",
            "Epoch 5: val_accuracy did not improve from 0.97033\n",
            "1500/1500 - 6s - loss: 0.1633 - accuracy: 0.9371 - val_loss: 0.0987 - val_accuracy: 0.9623 - lr: 0.0010 - 6s/epoch - 4ms/step\n",
            "Epoch 6/15\n",
            "\n",
            "Epoch 6: val_accuracy did not improve from 0.97033\n",
            "1500/1500 - 5s - loss: 0.1443 - accuracy: 0.9447 - val_loss: 0.0884 - val_accuracy: 0.9669 - lr: 5.0000e-04 - 5s/epoch - 4ms/step\n",
            "Epoch 7/15\n",
            "\n",
            "Epoch 7: val_accuracy did not improve from 0.97033\n",
            "1500/1500 - 7s - loss: 0.1377 - accuracy: 0.9471 - val_loss: 0.1012 - val_accuracy: 0.9617 - lr: 5.0000e-04 - 7s/epoch - 4ms/step\n",
            "Epoch 8/15\n",
            "\n",
            "Epoch 8: val_accuracy did not improve from 0.97033\n",
            "1500/1500 - 5s - loss: 0.1374 - accuracy: 0.9468 - val_loss: 0.0891 - val_accuracy: 0.9667 - lr: 5.0000e-04 - 5s/epoch - 3ms/step\n",
            "Epoch 9/15\n",
            "\n",
            "Epoch 9: val_accuracy did not improve from 0.97033\n",
            "1500/1500 - 7s - loss: 0.1348 - accuracy: 0.9484 - val_loss: 0.0904 - val_accuracy: 0.9669 - lr: 5.0000e-04 - 7s/epoch - 4ms/step\n",
            "Epoch 10/15\n",
            "\n",
            "Epoch 10: val_accuracy did not improve from 0.97033\n",
            "1500/1500 - 5s - loss: 0.1338 - accuracy: 0.9493 - val_loss: 0.0945 - val_accuracy: 0.9658 - lr: 5.0000e-04 - 5s/epoch - 4ms/step\n",
            "Epoch 11/15\n",
            "\n",
            "Epoch 11: val_accuracy improved from 0.97033 to 0.97067, saving model to /content/drive/My Drive/Computer_Vision/Assignment_4//content/drive/My Drive/Computer_Vision/Assignment_4//content/drive/My Drive/Computer_Vision/Assignment_4//content/drive/My Drive/Computer_Vision/Assignment_4//content/drive/My Drive/Computer_Vision/Assignment_4/basemodel_LR_kfold.h5_fold_1_fold_2_fold_3_fold_4_fold_5\n"
          ]
        },
        {
          "output_type": "stream",
          "name": "stderr",
          "text": [
            "WARNING:absl:Found untraced functions such as _jit_compiled_convolution_op, _jit_compiled_convolution_op while saving (showing 2 of 2). These functions will not be directly callable after loading.\n"
          ]
        },
        {
          "output_type": "stream",
          "name": "stdout",
          "text": [
            "1500/1500 - 8s - loss: 0.1248 - accuracy: 0.9525 - val_loss: 0.0825 - val_accuracy: 0.9707 - lr: 2.5000e-04 - 8s/epoch - 5ms/step\n",
            "Epoch 12/15\n",
            "\n",
            "Epoch 12: val_accuracy did not improve from 0.97067\n",
            "1500/1500 - 5s - loss: 0.1220 - accuracy: 0.9542 - val_loss: 0.0851 - val_accuracy: 0.9684 - lr: 2.5000e-04 - 5s/epoch - 4ms/step\n",
            "Epoch 13/15\n",
            "\n",
            "Epoch 13: val_accuracy did not improve from 0.97067\n",
            "1500/1500 - 6s - loss: 0.1184 - accuracy: 0.9546 - val_loss: 0.0834 - val_accuracy: 0.9699 - lr: 2.5000e-04 - 6s/epoch - 4ms/step\n",
            "Epoch 14/15\n",
            "\n",
            "Epoch 14: val_accuracy did not improve from 0.97067\n",
            "1500/1500 - 6s - loss: 0.1169 - accuracy: 0.9548 - val_loss: 0.0825 - val_accuracy: 0.9703 - lr: 2.5000e-04 - 6s/epoch - 4ms/step\n",
            "Epoch 15/15\n",
            "\n",
            "Epoch 15: val_accuracy improved from 0.97067 to 0.97083, saving model to /content/drive/My Drive/Computer_Vision/Assignment_4//content/drive/My Drive/Computer_Vision/Assignment_4//content/drive/My Drive/Computer_Vision/Assignment_4//content/drive/My Drive/Computer_Vision/Assignment_4//content/drive/My Drive/Computer_Vision/Assignment_4/basemodel_LR_kfold.h5_fold_1_fold_2_fold_3_fold_4_fold_5\n"
          ]
        },
        {
          "output_type": "stream",
          "name": "stderr",
          "text": [
            "WARNING:absl:Found untraced functions such as _jit_compiled_convolution_op, _jit_compiled_convolution_op while saving (showing 2 of 2). These functions will not be directly callable after loading.\n"
          ]
        },
        {
          "output_type": "stream",
          "name": "stdout",
          "text": [
            "1500/1500 - 7s - loss: 0.1173 - accuracy: 0.9548 - val_loss: 0.0820 - val_accuracy: 0.9708 - lr: 2.5000e-04 - 7s/epoch - 5ms/step\n"
          ]
        }
      ],
      "source": [
        "train_model_LR_kfold(best_model_LR_kfold, train_images_all, train_labels_all, 'basemodel_LR_kfold.h5')"
      ]
    },
    {
      "cell_type": "code",
      "execution_count": 28,
      "metadata": {
        "colab": {
          "base_uri": "https://localhost:8080/"
        },
        "id": "3sBc2xQ44KhA",
        "outputId": "125c3fb7-874d-4291-9bf0-a529abecf39e"
      },
      "outputs": [
        {
          "output_type": "stream",
          "name": "stderr",
          "text": [
            "/usr/local/lib/python3.9/dist-packages/keras/backend.py:5585: UserWarning: \"`sparse_categorical_crossentropy` received `from_logits=True`, but the `output` argument was produced by a Softmax activation and thus does not represent logits. Was this intended?\n",
            "  output, from_logits = _get_logits(\n"
          ]
        },
        {
          "output_type": "stream",
          "name": "stdout",
          "text": [
            "313/313 - 1s - loss: 0.2423 - accuracy: 0.9259 - 1s/epoch - 4ms/step\n"
          ]
        }
      ],
      "source": [
        "test_loss_model_kfold, test_acc_model_kfold = best_model_LR_kfold.evaluate(test_images,  test_labels, verbose=2)"
      ]
    },
    {
      "cell_type": "code",
      "execution_count": 29,
      "metadata": {
        "colab": {
          "base_uri": "https://localhost:8080/"
        },
        "id": "qUoZA3KRn9ld",
        "outputId": "ae2ce4bb-8a61-48b4-8436-42faf69efcf9"
      },
      "outputs": [
        {
          "output_type": "stream",
          "name": "stdout",
          "text": [
            "\n",
            "Test accuracy K-fold LR: 0.9258999824523926\n"
          ]
        }
      ],
      "source": [
        "print('\\nTest accuracy K-fold LR:', test_acc_model_kfold)"
      ]
    },
    {
      "cell_type": "code",
      "execution_count": 30,
      "metadata": {
        "colab": {
          "base_uri": "https://localhost:8080/"
        },
        "id": "_dZQWcLjbVV0",
        "outputId": "232ca703-e0f5-4d40-fc82-24e09e3cf11a"
      },
      "outputs": [
        {
          "output_type": "stream",
          "name": "stdout",
          "text": [
            "\n",
            " Best Model Baseline Choice Task 2 (Learning Rate):\n",
            "313/313 [==============================] - 1s 3ms/step\n",
            "              precision    recall  f1-score   support\n",
            "\n",
            "           0       0.88      0.88      0.88      1000\n",
            "           1       1.00      0.98      0.99      1000\n",
            "           2       0.87      0.90      0.88      1000\n",
            "           3       0.91      0.94      0.93      1000\n",
            "           4       0.91      0.87      0.89      1000\n",
            "           5       0.99      0.98      0.98      1000\n",
            "           6       0.79      0.78      0.78      1000\n",
            "           7       0.95      0.99      0.97      1000\n",
            "           8       0.99      0.98      0.98      1000\n",
            "           9       0.99      0.96      0.97      1000\n",
            "\n",
            "    accuracy                           0.93     10000\n",
            "   macro avg       0.93      0.93      0.93     10000\n",
            "weighted avg       0.93      0.93      0.93     10000\n",
            "\n"
          ]
        }
      ],
      "source": [
        "print('\\n Best Model Baseline Choice Task 2 (Learning Rate):')\n",
        "preds_kf = best_model_LR_kfold.predict(test_images)\n",
        "preds_kf = np.argmax(preds_kf, axis=1)\n",
        "\n",
        "print(classification_report(test_labels, preds_kf))"
      ]
    },
    {
      "cell_type": "markdown",
      "metadata": {
        "id": "264kSVpOsk4v"
      },
      "source": [
        "### Choice 5: Data Augmentation"
      ]
    },
    {
      "cell_type": "code",
      "execution_count": 31,
      "metadata": {
        "colab": {
          "base_uri": "https://localhost:8080/",
          "height": 190
        },
        "id": "WtQcCoCXsqJ5",
        "outputId": "d2ea1e88-f5fb-4611-f68e-6eeff0764fff"
      },
      "outputs": [
        {
          "output_type": "display_data",
          "data": {
            "text/plain": [
              "<Figure size 640x480 with 4 Axes>"
            ],
            "image/png": "[encoded data removed]"
          },
          "metadata": {}
        }
      ],
      "source": [
        "import numpy as np\n",
        "from PIL import Image\n",
        "from skimage.util import random_noise\n",
        "\n",
        "def augment_images(train_images, train_labels):\n",
        "    \"\"\"\n",
        "    augment_images implements data augmentation on the training set making use of rotation, \n",
        "    translation and adding gaussian noise to the images\n",
        "    \"\"\"\n",
        "    count = 0\n",
        "    augmented_images = []\n",
        "    augmented_labels = []\n",
        "    \n",
        "    for i in range(len(train_images)):\n",
        "        train_image_show=train_images[i]\n",
        "\n",
        "        # Rotate the image\n",
        "        angle = np.random.randint(0, 360)\n",
        "        img = Image.fromarray(train_images[i])\n",
        "        img = img.rotate(angle)\n",
        "        rotated_img = np.array(img)\n",
        "        augmented_images.append(rotated_img)\n",
        "        augmented_labels.append(train_labels[i])\n",
        "        \n",
        "        # Flip the image\n",
        "        flip = np.random.choice(['horizontal', 'vertical'])\n",
        "        if flip == 'horizontal':\n",
        "            flipped_img = np.fliplr(rotated_img)\n",
        "        else:\n",
        "            flipped_img = np.flipud(rotated_img)\n",
        "        augmented_images.append(flipped_img)\n",
        "        augmented_labels.append(train_labels[i])\n",
        "\n",
        "        # Add random noise to the image\n",
        "        noise_type = 'gaussian'\n",
        "        mean = 0\n",
        "        var = 0.01\n",
        "        noisy_img = random_noise(train_images[i], mode=noise_type, mean=mean, var=var)\n",
        "        augmented_images.append(noisy_img)\n",
        "        augmented_labels.append(train_labels[i])\n",
        "    \n",
        "    # Append the augmented images and labels to the original dataset\n",
        "    train_images = np.concatenate((train_images, augmented_images))\n",
        "    train_labels = np.concatenate((train_labels, augmented_labels))\n",
        "\n",
        "    plt.subplot(1, 4, 3)\n",
        "    plt.imshow(noisy_img,cmap='gray')\n",
        "    plt.title('Noisy')\n",
        "    plt.subplot(1,4,2)\n",
        "    plt.imshow(rotated_img,cmap='gray')\n",
        "    plt.title('Rotated')\n",
        "    plt.subplot(1,4,4)\n",
        "    plt.imshow(flipped_img,cmap='gray')\n",
        "    plt.title('Flipped')\n",
        "    plt.subplot(1,4,1)\n",
        "    plt.imshow(train_image_show,cmap='gray')\n",
        "    plt.title('Original')\n",
        "      \n",
        "    return train_images, train_labels\n",
        "\n",
        "train_images_augmented, train_labels_augmented = augment_images(train_images, train_labels)"
      ]
    },
    {
      "cell_type": "markdown",
      "metadata": {
        "id": "5Nq_rM2-s452"
      },
      "source": [
        "Augmented data"
      ]
    },
    {
      "cell_type": "code",
      "execution_count": 32,
      "metadata": {
        "id": "b3MxFCWXtMrT"
      },
      "outputs": [],
      "source": [
        "# baseline model for augmented data training\n",
        "best_model_augmented = tf.keras.Sequential([\n",
        "    tf.keras.layers.InputLayer(input_shape= (28, 28, 1)), \n",
        "    tf.keras.layers.Conv2D(32, kernel_size=(3, 3), activation='relu'),\n",
        "    tf.keras.layers.MaxPooling2D(pool_size=(2, 2)),\n",
        "    tf.keras.layers.Dropout(0.25),\n",
        "    tf.keras.layers.Conv2D(64, kernel_size=(3, 3), activation='relu'),\n",
        "    tf.keras.layers.MaxPooling2D(pool_size=(2, 2)),\n",
        "    tf.keras.layers.Dropout(0.25),\n",
        "    tf.keras.layers.Flatten(),\n",
        "    tf.keras.layers.Dense(128, activation='relu'),\n",
        "    tf.keras.layers.Dropout(0.25),\n",
        "    tf.keras.layers.Dense(10, activation='softmax')\n",
        "])"
      ]
    },
    {
      "cell_type": "code",
      "execution_count": 34,
      "metadata": {
        "colab": {
          "base_uri": "https://localhost:8080/"
        },
        "id": "zrFc05Rss0D-",
        "outputId": "441c05a0-aafe-43df-b4d9-5bfb6054e1c1"
      },
      "outputs": [
        {
          "output_type": "stream",
          "name": "stdout",
          "text": [
            "Epoch 1/15\n"
          ]
        },
        {
          "output_type": "stream",
          "name": "stderr",
          "text": [
            "/usr/local/lib/python3.9/dist-packages/keras/backend.py:5585: UserWarning: \"`sparse_categorical_crossentropy` received `from_logits=True`, but the `output` argument was produced by a Softmax activation and thus does not represent logits. Was this intended?\n",
            "  output, from_logits = _get_logits(\n"
          ]
        },
        {
          "output_type": "stream",
          "name": "stdout",
          "text": [
            "5995/6000 [============================>.] - ETA: 0s - loss: 0.7828 - accuracy: 0.7119\n",
            "Epoch 1: loss improved from inf to 0.78260, saving model to /content/drive/My Drive/Computer_Vision/Assignment_4/basemodel_augmented.h5\n",
            "6000/6000 [==============================] - 27s 4ms/step - loss: 0.7826 - accuracy: 0.7120\n",
            "Epoch 2/15\n",
            "6000/6000 [==============================] - ETA: 0s - loss: 0.5920 - accuracy: 0.7826\n",
            "Epoch 2: loss improved from 0.78260 to 0.59196, saving model to /content/drive/My Drive/Computer_Vision/Assignment_4/basemodel_augmented.h5\n",
            "6000/6000 [==============================] - 26s 4ms/step - loss: 0.5920 - accuracy: 0.7826\n",
            "Epoch 3/15\n",
            "5999/6000 [============================>.] - ETA: 0s - loss: 0.5437 - accuracy: 0.8000\n",
            "Epoch 3: loss improved from 0.59196 to 0.54373, saving model to /content/drive/My Drive/Computer_Vision/Assignment_4/basemodel_augmented.h5\n",
            "6000/6000 [==============================] - 26s 4ms/step - loss: 0.5437 - accuracy: 0.7999\n",
            "Epoch 4/15\n",
            "5993/6000 [============================>.] - ETA: 0s - loss: 0.5152 - accuracy: 0.8095\n",
            "Epoch 4: loss improved from 0.54373 to 0.51518, saving model to /content/drive/My Drive/Computer_Vision/Assignment_4/basemodel_augmented.h5\n",
            "6000/6000 [==============================] - 26s 4ms/step - loss: 0.5152 - accuracy: 0.8095\n",
            "Epoch 5/15\n",
            "5999/6000 [============================>.] - ETA: 0s - loss: 0.4972 - accuracy: 0.8152\n",
            "Epoch 5: loss improved from 0.51518 to 0.49715, saving model to /content/drive/My Drive/Computer_Vision/Assignment_4/basemodel_augmented.h5\n",
            "6000/6000 [==============================] - 28s 5ms/step - loss: 0.4972 - accuracy: 0.8152\n",
            "Epoch 6/15\n",
            "5990/6000 [============================>.] - ETA: 0s - loss: 0.4852 - accuracy: 0.8210\n",
            "Epoch 6: loss improved from 0.49715 to 0.48525, saving model to /content/drive/My Drive/Computer_Vision/Assignment_4/basemodel_augmented.h5\n",
            "6000/6000 [==============================] - 31s 5ms/step - loss: 0.4853 - accuracy: 0.8210\n",
            "Epoch 7/15\n",
            "5999/6000 [============================>.] - ETA: 0s - loss: 0.4726 - accuracy: 0.8249\n",
            "Epoch 7: loss improved from 0.48525 to 0.47257, saving model to /content/drive/My Drive/Computer_Vision/Assignment_4/basemodel_augmented.h5\n",
            "6000/6000 [==============================] - 25s 4ms/step - loss: 0.4726 - accuracy: 0.8249\n",
            "Epoch 8/15\n",
            "5995/6000 [============================>.] - ETA: 0s - loss: 0.4646 - accuracy: 0.8279\n",
            "Epoch 8: loss improved from 0.47257 to 0.46457, saving model to /content/drive/My Drive/Computer_Vision/Assignment_4/basemodel_augmented.h5\n",
            "6000/6000 [==============================] - 25s 4ms/step - loss: 0.4646 - accuracy: 0.8279\n",
            "Epoch 9/15\n",
            "5992/6000 [============================>.] - ETA: 0s - loss: 0.4584 - accuracy: 0.8305\n",
            "Epoch 9: loss improved from 0.46457 to 0.45830, saving model to /content/drive/My Drive/Computer_Vision/Assignment_4/basemodel_augmented.h5\n",
            "6000/6000 [==============================] - 27s 5ms/step - loss: 0.4583 - accuracy: 0.8305\n",
            "Epoch 10/15\n",
            "5998/6000 [============================>.] - ETA: 0s - loss: 0.4489 - accuracy: 0.8336\n",
            "Epoch 10: loss improved from 0.45830 to 0.44885, saving model to /content/drive/My Drive/Computer_Vision/Assignment_4/basemodel_augmented.h5\n",
            "6000/6000 [==============================] - 25s 4ms/step - loss: 0.4489 - accuracy: 0.8337\n",
            "Epoch 11/15\n",
            "5999/6000 [============================>.] - ETA: 0s - loss: 0.4431 - accuracy: 0.8347\n",
            "Epoch 11: loss improved from 0.44885 to 0.44308, saving model to /content/drive/My Drive/Computer_Vision/Assignment_4/basemodel_augmented.h5\n",
            "6000/6000 [==============================] - 24s 4ms/step - loss: 0.4431 - accuracy: 0.8347\n",
            "Epoch 12/15\n",
            "5990/6000 [============================>.] - ETA: 0s - loss: 0.4397 - accuracy: 0.8359\n",
            "Epoch 12: loss improved from 0.44308 to 0.43975, saving model to /content/drive/My Drive/Computer_Vision/Assignment_4/basemodel_augmented.h5\n",
            "6000/6000 [==============================] - 24s 4ms/step - loss: 0.4398 - accuracy: 0.8359\n",
            "Epoch 13/15\n",
            "5995/6000 [============================>.] - ETA: 0s - loss: 0.4355 - accuracy: 0.8368\n",
            "Epoch 13: loss improved from 0.43975 to 0.43545, saving model to /content/drive/My Drive/Computer_Vision/Assignment_4/basemodel_augmented.h5\n",
            "6000/6000 [==============================] - 25s 4ms/step - loss: 0.4354 - accuracy: 0.8368\n",
            "Epoch 14/15\n",
            "5989/6000 [============================>.] - ETA: 0s - loss: 0.4319 - accuracy: 0.8393\n",
            "Epoch 14: loss improved from 0.43545 to 0.43189, saving model to /content/drive/My Drive/Computer_Vision/Assignment_4/basemodel_augmented.h5\n",
            "6000/6000 [==============================] - 25s 4ms/step - loss: 0.4319 - accuracy: 0.8394\n",
            "Epoch 15/15\n",
            "5993/6000 [============================>.] - ETA: 0s - loss: 0.4260 - accuracy: 0.8416\n",
            "Epoch 15: loss improved from 0.43189 to 0.42605, saving model to /content/drive/My Drive/Computer_Vision/Assignment_4/basemodel_augmented.h5\n",
            "6000/6000 [==============================] - 25s 4ms/step - loss: 0.4261 - accuracy: 0.8416\n"
          ]
        }
      ],
      "source": [
        "train_model_all(best_model_augmented, train_images_augmented, train_labels_augmented, 'basemodel_augmented.h5')"
      ]
    },
    {
      "cell_type": "code",
      "execution_count": 35,
      "metadata": {
        "colab": {
          "base_uri": "https://localhost:8080/"
        },
        "id": "_pNxh4_ls0D-",
        "outputId": "98907fc0-d94f-41ef-c272-dc9d7f5117cf"
      },
      "outputs": [
        {
          "output_type": "stream",
          "name": "stdout",
          "text": [
            "313/313 - 1s - loss: 0.2944 - accuracy: 0.8952 - 809ms/epoch - 3ms/step\n"
          ]
        }
      ],
      "source": [
        "test_loss_aug, test_acc_aug = best_model_augmented.evaluate(test_images,  test_labels, verbose=2)"
      ]
    },
    {
      "cell_type": "code",
      "execution_count": 36,
      "metadata": {
        "colab": {
          "base_uri": "https://localhost:8080/"
        },
        "id": "QLIbjss1s0D_",
        "outputId": "e8cfb8c6-a480-4b16-b820-e1314a5c05f7"
      },
      "outputs": [
        {
          "output_type": "stream",
          "name": "stdout",
          "text": [
            "\n",
            "Test accuracy Kernel LR: 0.8952000141143799\n"
          ]
        }
      ],
      "source": [
        "print('\\nTest accuracy Kernel LR:', test_acc_aug)"
      ]
    },
    {
      "cell_type": "code",
      "execution_count": 37,
      "metadata": {
        "colab": {
          "base_uri": "https://localhost:8080/"
        },
        "id": "rggRBPPAbxtT",
        "outputId": "861e9d81-0e13-4f9f-b080-378bc5290108"
      },
      "outputs": [
        {
          "output_type": "stream",
          "name": "stdout",
          "text": [
            "\n",
            " Best Model Baseline Choice Task 2 (Learning Rate):\n",
            "313/313 [==============================] - 1s 2ms/step\n",
            "              precision    recall  f1-score   support\n",
            "\n",
            "           0       0.81      0.89      0.85      1000\n",
            "           1       0.99      0.97      0.98      1000\n",
            "           2       0.79      0.89      0.83      1000\n",
            "           3       0.89      0.93      0.91      1000\n",
            "           4       0.86      0.77      0.81      1000\n",
            "           5       0.98      0.97      0.98      1000\n",
            "           6       0.74      0.63      0.68      1000\n",
            "           7       0.96      0.97      0.96      1000\n",
            "           8       0.98      0.97      0.98      1000\n",
            "           9       0.96      0.97      0.97      1000\n",
            "\n",
            "    accuracy                           0.90     10000\n",
            "   macro avg       0.89      0.90      0.89     10000\n",
            "weighted avg       0.89      0.90      0.89     10000\n",
            "\n"
          ]
        }
      ],
      "source": [
        "print('\\n Best Model Baseline Choice Task 2 (Learning Rate):')\n",
        "preds_aug = best_model_augmented.predict(test_images)\n",
        "preds_aug = np.argmax(preds_aug, axis=1)\n",
        "\n",
        "print(classification_report(test_labels, preds_aug))"
      ]
    },
    {
      "cell_type": "markdown",
      "metadata": {
        "id": "n_TBW5AnpLhe"
      },
      "source": [
        "### Choice 1: Confusion matrix"
      ]
    },
    {
      "cell_type": "code",
      "execution_count": 38,
      "metadata": {
        "colab": {
          "base_uri": "https://localhost:8080/",
          "height": 713
        },
        "id": "9iy99rk0XTKd",
        "outputId": "d4f69090-3681-40e0-c64f-7e07ab1424b1"
      },
      "outputs": [
        {
          "output_type": "stream",
          "name": "stdout",
          "text": [
            "313/313 [==============================] - 1s 2ms/step\n"
          ]
        },
        {
          "output_type": "display_data",
          "data": {
            "text/plain": [
              "<Figure size 800x800 with 2 Axes>"
            ],
            "image/png": "[encoded data removed]"
          },
          "metadata": {}
        }
      ],
      "source": [
        "import numpy as np\n",
        "from sklearn.metrics import confusion_matrix\n",
        "import matplotlib.pyplot as plt\n",
        "\n",
        "# Get the predictions of the model on the validation set\n",
        "predictions = best_model_LR_kfold.predict(test_images)\n",
        "predicted_labels = np.argmax(predictions, axis=1)\n",
        "\n",
        "# Compute the confusion matrix\n",
        "cm = confusion_matrix(test_labels, predicted_labels)\n",
        "\n",
        "# Plot the confusion matrix\n",
        "plt.figure(figsize=(8, 8))\n",
        "plt.imshow(cm, cmap=plt.cm.Blues)\n",
        "plt.xticks(np.arange(10), class_names, rotation=90)\n",
        "plt.yticks(np.arange(10), class_names)\n",
        "plt.xlabel('Predicted Label')\n",
        "plt.ylabel('True Label')\n",
        "plt.title('Confusion Matrix')\n",
        "plt.colorbar()\n",
        "\n",
        "# Add text labels to the plot\n",
        "thresh = cm.max() / 2.0\n",
        "for i in range(10):\n",
        "    for j in range(10):\n",
        "        plt.text(j, i, format(cm[i, j], 'd'),\n",
        "                 horizontalalignment=\"center\",\n",
        "                 color=\"white\" if cm[i, j] > thresh else \"black\")\n",
        "\n",
        "plt.show()\n"
      ]
    },
    {
      "cell_type": "code",
      "execution_count": 39,
      "metadata": {
        "id": "XH33a7Jb_JK0",
        "colab": {
          "base_uri": "https://localhost:8080/"
        },
        "outputId": "98afd6bf-d512-4cc6-da52-dac041f5dcdd"
      },
      "outputs": [
        {
          "output_type": "stream",
          "name": "stdout",
          "text": [
            "              precision    recall  f1-score   support\n",
            "\n",
            "           0       0.88      0.88      0.88      1000\n",
            "           1       1.00      0.98      0.99      1000\n",
            "           2       0.87      0.90      0.88      1000\n",
            "           3       0.91      0.94      0.93      1000\n",
            "           4       0.91      0.87      0.89      1000\n",
            "           5       0.99      0.98      0.98      1000\n",
            "           6       0.79      0.78      0.78      1000\n",
            "           7       0.95      0.99      0.97      1000\n",
            "           8       0.99      0.98      0.98      1000\n",
            "           9       0.99      0.96      0.97      1000\n",
            "\n",
            "    accuracy                           0.93     10000\n",
            "   macro avg       0.93      0.93      0.93     10000\n",
            "weighted avg       0.93      0.93      0.93     10000\n",
            "\n"
          ]
        }
      ],
      "source": [
        "print(classification_report(test_labels, predicted_labels))"
      ]
    }
  ],
  "metadata": {
    "accelerator": "GPU",
    "colab": {
      "collapsed_sections": [
        "Rw7g_7YVdkC6"
      ],
      "provenance": []
    },
    "gpuClass": "standard",
    "kernelspec": {
      "display_name": "Python 3",
      "name": "python3"
    },
    "language_info": {
      "name": "python"
    }
  },
  "nbformat": 4,
  "nbformat_minor": 0
}